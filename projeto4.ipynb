{
 "cells": [
  {
   "cell_type": "markdown",
   "id": "297e3268-9f9e-4acb-aa29-2832b618f35e",
   "metadata": {},
   "source": [
    "#  Projeto 4 - Foramção Analísta de Dados (DSA)\n",
    "## Projeto de Análise de Dados com Linguagem Python\n",
    "### Técnicas de Análise Exploratoria e Interpretação de Gráficos Estatísticos \n",
    "\n",
    "Este projeto trabalhará com dados de contabilidade, realizando análise exploratória antes e depois da limpeza de dados, realização de tratamento de valores ausentes com diferentes técnicas, tratamento de outliers para então darmos ênfase na interpretação dos gráficos estatísticos. Quando mais trática, mais aprendizado.\n",
    "\n",
    "O objetivo deste projeto é detectar eventuais problemas nos dados, revolvê-los e então analisar o comportamento de algumas variáveis, o que será feito interpretando os gráficos.\n",
    "\n",
    "Os dados são fictícios, mas a definição das variáveis representa informação real da área de contabilidade.\n",
    "\n",
    "## Dicionário de Dados\n",
    "\n",
    "- id: Identificador único para cada lançamento.\n",
    "- data_lancamento: A data em que o lançamento contável está sem feito.\n",
    "- conta_debito: Conta Contábil a ser debitáda.\n",
    "- conta_credito: Conta Contábil a ser creditada.\n",
    "- valor: Valor monetário do lançamento.\n",
    "- documento: Documentação comprobatória da operação.\n",
    "- natureza_operacao: Descrição do evento contábel.\n",
    "- centro_custo: Setor ou departamento responsável pela operação.\n",
    "- impostos: Impostos e tributos envolvidos, se aplicável.\n",
    "- moeda: Moeda utilizada na operação, se aplicável.\n",
    "- taxa_conversao: Taxa de conversão para a moeda nacional, se aplicável.\n",
    " "
   ]
  },
  {
   "cell_type": "markdown",
   "id": "bbbc077a-9c55-49c7-9886-7f44f121ddb6",
   "metadata": {},
   "source": [
    "## Pacotes Python Usados neste Projeto"
   ]
  },
  {
   "cell_type": "code",
   "execution_count": 1,
   "id": "8a7ce65b-d188-4b8a-a3e3-61bdb31eb318",
   "metadata": {},
   "outputs": [],
   "source": [
    "!pip install -q -U watermark"
   ]
  },
  {
   "cell_type": "code",
   "execution_count": 2,
   "id": "ba35b218-3da0-45d7-92be-be5e8a2d4b16",
   "metadata": {},
   "outputs": [],
   "source": [
    "# imports\n",
    "import pandas as pd\n",
    "import numpy as np\n",
    "import matplotlib.pyplot as plt\n",
    "import seaborn as sns\n",
    "import warnings\n",
    "warnings.filterwarnings(\"ignore\")"
   ]
  },
  {
   "cell_type": "code",
   "execution_count": 3,
   "id": "3ca96bc4-ead0-44d1-8a13-359d6ca167cf",
   "metadata": {},
   "outputs": [
    {
     "name": "stdout",
     "output_type": "stream",
     "text": [
      "Author: Leonardo da Silva Neves\n",
      "\n"
     ]
    }
   ],
   "source": [
    "%reload_ext watermark\n",
    "%watermark -a \"Leonardo da Silva Neves\""
   ]
  },
  {
   "cell_type": "markdown",
   "id": "916637e7-d939-4453-b922-e9b7f1ca0175",
   "metadata": {},
   "source": [
    "## Carregando os Dados"
   ]
  },
  {
   "cell_type": "code",
   "execution_count": 5,
   "id": "7cd8c352-b081-46d5-a85a-33e333c4da66",
   "metadata": {},
   "outputs": [],
   "source": [
    "# Carregando o arquivo de uma subpasta\n",
    "csv = 'Cap07/dataset.csv'"
   ]
  },
  {
   "cell_type": "code",
   "execution_count": 7,
   "id": "52cb708c-2ded-437f-8291-664462593b4d",
   "metadata": {},
   "outputs": [],
   "source": [
    "# Carregando o dataset e atribindo a variável df\n",
    "df = pd.read_csv(csv)"
   ]
  },
  {
   "cell_type": "code",
   "execution_count": 9,
   "id": "af52d975-ed2c-41bc-8202-da78f2616310",
   "metadata": {},
   "outputs": [
    {
     "data": {
      "text/plain": [
       "(1200, 11)"
      ]
     },
     "execution_count": 9,
     "metadata": {},
     "output_type": "execute_result"
    }
   ],
   "source": [
    "# Shape\n",
    "df.shape"
   ]
  },
  {
   "cell_type": "code",
   "execution_count": 10,
   "id": "dd55fdf5-9130-4ca9-b8bc-a30d63b7182d",
   "metadata": {},
   "outputs": [
    {
     "data": {
      "text/html": [
       "<div>\n",
       "<style scoped>\n",
       "    .dataframe tbody tr th:only-of-type {\n",
       "        vertical-align: middle;\n",
       "    }\n",
       "\n",
       "    .dataframe tbody tr th {\n",
       "        vertical-align: top;\n",
       "    }\n",
       "\n",
       "    .dataframe thead th {\n",
       "        text-align: right;\n",
       "    }\n",
       "</style>\n",
       "<table border=\"1\" class=\"dataframe\">\n",
       "  <thead>\n",
       "    <tr style=\"text-align: right;\">\n",
       "      <th></th>\n",
       "      <th>id</th>\n",
       "      <th>data_lancamento</th>\n",
       "      <th>conta_debito</th>\n",
       "      <th>conta_credito</th>\n",
       "      <th>valor</th>\n",
       "      <th>documento</th>\n",
       "      <th>natureza_operacao</th>\n",
       "      <th>centro_custo</th>\n",
       "      <th>impostos</th>\n",
       "      <th>moeda</th>\n",
       "      <th>taxa_conversao</th>\n",
       "    </tr>\n",
       "  </thead>\n",
       "  <tbody>\n",
       "    <tr>\n",
       "      <th>0</th>\n",
       "      <td>1</td>\n",
       "      <td>2022-02-27</td>\n",
       "      <td>DWAVRL</td>\n",
       "      <td>CIOVQ6</td>\n",
       "      <td>5533.25</td>\n",
       "      <td>DOCPAXGQ</td>\n",
       "      <td>OP7JDVK</td>\n",
       "      <td>CC5FYA2</td>\n",
       "      <td>444.13252</td>\n",
       "      <td>NaN</td>\n",
       "      <td>3.475606</td>\n",
       "    </tr>\n",
       "    <tr>\n",
       "      <th>1</th>\n",
       "      <td>2</td>\n",
       "      <td>2022-05-11</td>\n",
       "      <td>D8TF53</td>\n",
       "      <td>CV9Y0V</td>\n",
       "      <td>7180.37</td>\n",
       "      <td>DOCBXZXG</td>\n",
       "      <td>OPXSY64</td>\n",
       "      <td>CCLH4R9</td>\n",
       "      <td>471.09236</td>\n",
       "      <td>EUR</td>\n",
       "      <td>3.523287</td>\n",
       "    </tr>\n",
       "    <tr>\n",
       "      <th>2</th>\n",
       "      <td>3</td>\n",
       "      <td>2020-03-23</td>\n",
       "      <td>D0TZCE</td>\n",
       "      <td>CELQSH</td>\n",
       "      <td>6067.36</td>\n",
       "      <td>DOCF5ITC</td>\n",
       "      <td>OPTDE9B</td>\n",
       "      <td>CCDG8CJ</td>\n",
       "      <td>326.49988</td>\n",
       "      <td>JPY</td>\n",
       "      <td>3.523287</td>\n",
       "    </tr>\n",
       "    <tr>\n",
       "      <th>3</th>\n",
       "      <td>4</td>\n",
       "      <td>2021-06-14</td>\n",
       "      <td>DOGLK7</td>\n",
       "      <td>CDFEMS</td>\n",
       "      <td>5494.34</td>\n",
       "      <td>DOCZRS1U</td>\n",
       "      <td>NaN</td>\n",
       "      <td>CC98G2K</td>\n",
       "      <td>471.09236</td>\n",
       "      <td>JPY</td>\n",
       "      <td>3.523287</td>\n",
       "    </tr>\n",
       "    <tr>\n",
       "      <th>4</th>\n",
       "      <td>5</td>\n",
       "      <td>2022-11-13</td>\n",
       "      <td>DHL0I5</td>\n",
       "      <td>CRU97G</td>\n",
       "      <td>4294.18</td>\n",
       "      <td>NaN</td>\n",
       "      <td>OP62LG1</td>\n",
       "      <td>CCZD80Y</td>\n",
       "      <td>154.26398</td>\n",
       "      <td>EUR</td>\n",
       "      <td>3.523287</td>\n",
       "    </tr>\n",
       "  </tbody>\n",
       "</table>\n",
       "</div>"
      ],
      "text/plain": [
       "   id data_lancamento conta_debito conta_credito    valor documento  \\\n",
       "0   1      2022-02-27       DWAVRL        CIOVQ6  5533.25  DOCPAXGQ   \n",
       "1   2      2022-05-11       D8TF53        CV9Y0V  7180.37  DOCBXZXG   \n",
       "2   3      2020-03-23       D0TZCE        CELQSH  6067.36  DOCF5ITC   \n",
       "3   4      2021-06-14       DOGLK7        CDFEMS  5494.34  DOCZRS1U   \n",
       "4   5      2022-11-13       DHL0I5        CRU97G  4294.18       NaN   \n",
       "\n",
       "  natureza_operacao centro_custo   impostos moeda  taxa_conversao  \n",
       "0           OP7JDVK      CC5FYA2  444.13252   NaN        3.475606  \n",
       "1           OPXSY64      CCLH4R9  471.09236   EUR        3.523287  \n",
       "2           OPTDE9B      CCDG8CJ  326.49988   JPY        3.523287  \n",
       "3               NaN      CC98G2K  471.09236   JPY        3.523287  \n",
       "4           OP62LG1      CCZD80Y  154.26398   EUR        3.523287  "
      ]
     },
     "execution_count": 10,
     "metadata": {},
     "output_type": "execute_result"
    }
   ],
   "source": [
    "# Amostra\n",
    "df.head()"
   ]
  },
  {
   "cell_type": "code",
   "execution_count": 11,
   "id": "c193f2cf-5ad7-491b-a484-fd5d6e9800b7",
   "metadata": {},
   "outputs": [
    {
     "data": {
      "text/plain": [
       "Index(['id', 'data_lancamento', 'conta_debito', 'conta_credito', 'valor',\n",
       "       'documento', 'natureza_operacao', 'centro_custo', 'impostos', 'moeda',\n",
       "       'taxa_conversao'],\n",
       "      dtype='object')"
      ]
     },
     "execution_count": 11,
     "metadata": {},
     "output_type": "execute_result"
    }
   ],
   "source": [
    "# Colunas\n",
    "df.columns"
   ]
  },
  {
   "cell_type": "markdown",
   "id": "711a51a3-2ed8-462f-ae8c-6c61622e2664",
   "metadata": {},
   "source": [
    "## Análise Exploratória Antes da limpeza"
   ]
  },
  {
   "cell_type": "code",
   "execution_count": 12,
   "id": "1e28b68c-21cc-4331-bfee-df70527e2470",
   "metadata": {},
   "outputs": [
    {
     "name": "stdout",
     "output_type": "stream",
     "text": [
      "<class 'pandas.core.frame.DataFrame'>\n",
      "RangeIndex: 1200 entries, 0 to 1199\n",
      "Data columns (total 11 columns):\n",
      " #   Column             Non-Null Count  Dtype  \n",
      "---  ------             --------------  -----  \n",
      " 0   id                 1200 non-null   int64  \n",
      " 1   data_lancamento    1200 non-null   object \n",
      " 2   conta_debito       1200 non-null   object \n",
      " 3   conta_credito      1200 non-null   object \n",
      " 4   valor              1200 non-null   float64\n",
      " 5   documento          1078 non-null   object \n",
      " 6   natureza_operacao  1080 non-null   object \n",
      " 7   centro_custo       1200 non-null   object \n",
      " 8   impostos           1020 non-null   float64\n",
      " 9   moeda              947 non-null    object \n",
      " 10  taxa_conversao     982 non-null    float64\n",
      "dtypes: float64(3), int64(1), object(7)\n",
      "memory usage: 103.3+ KB\n"
     ]
    }
   ],
   "source": [
    "# Info\n",
    "df.info()"
   ]
  },
  {
   "cell_type": "code",
   "execution_count": 13,
   "id": "eca25d0f-c512-4db3-9d97-b3a84f53537e",
   "metadata": {},
   "outputs": [
    {
     "data": {
      "text/plain": [
       "id                   False\n",
       "data_lancamento      False\n",
       "conta_debito         False\n",
       "conta_credito        False\n",
       "valor                False\n",
       "documento             True\n",
       "natureza_operacao     True\n",
       "centro_custo         False\n",
       "impostos              True\n",
       "moeda                 True\n",
       "taxa_conversao        True\n",
       "dtype: bool"
      ]
     },
     "execution_count": 13,
     "metadata": {},
     "output_type": "execute_result"
    }
   ],
   "source": [
    "# Há valores ausentes? Sim (False) ou Não (True)? \n",
    "df.isna().any()"
   ]
  },
  {
   "cell_type": "code",
   "execution_count": 14,
   "id": "29f3bb3f-f326-4057-aaaf-1229359f9754",
   "metadata": {},
   "outputs": [
    {
     "data": {
      "text/plain": [
       "id                     0\n",
       "data_lancamento        0\n",
       "conta_debito           0\n",
       "conta_credito          0\n",
       "valor                  0\n",
       "documento            122\n",
       "natureza_operacao    120\n",
       "centro_custo           0\n",
       "impostos             180\n",
       "moeda                253\n",
       "taxa_conversao       218\n",
       "dtype: int64"
      ]
     },
     "execution_count": 14,
     "metadata": {},
     "output_type": "execute_result"
    }
   ],
   "source": [
    "# Há valores ausentes? Quantos?\n",
    "df.isna().sum()"
   ]
  },
  {
   "cell_type": "code",
   "execution_count": 25,
   "id": "49d4c695-4ffc-45a8-9dce-3ef8788f7faf",
   "metadata": {},
   "outputs": [
    {
     "name": "stdout",
     "output_type": "stream",
     "text": [
      "id                   0.000000\n",
      "data_lancamento      0.000000\n",
      "conta_debito         0.000000\n",
      "conta_credito        0.000000\n",
      "valor                0.000000\n",
      "documento            0.101667\n",
      "natureza_operacao    0.100000\n",
      "centro_custo         0.000000\n",
      "impostos             0.150000\n",
      "moeda                0.210833\n",
      "taxa_conversao       0.181667\n",
      "dtype: float64\n"
     ]
    }
   ],
   "source": [
    "# Calculando a soma de valores ausentes por coluna\n",
    "valores_ausentes = df.isna().sum()\n",
    "# Calculando o número total de linhas\n",
    "total_linhas = len(df)\n",
    "# Calculando a proporção de valores ausentes por coluna\n",
    "proporcao_valores_ausentes = valores_ausentes / total_linhas\n",
    "# Exibindo a proporção de valores ausentes\n",
    "print(proporcao_valores_ausentes)"
   ]
  },
  {
   "cell_type": "code",
   "execution_count": null,
   "id": "6efbb405-fcf3-4791-9d8f-ca909b83edd3",
   "metadata": {},
   "outputs": [],
   "source": []
  }
 ],
 "metadata": {
  "kernelspec": {
   "display_name": "Python 3 (ipykernel)",
   "language": "python",
   "name": "python3"
  },
  "language_info": {
   "codemirror_mode": {
    "name": "ipython",
    "version": 3
   },
   "file_extension": ".py",
   "mimetype": "text/x-python",
   "name": "python",
   "nbconvert_exporter": "python",
   "pygments_lexer": "ipython3",
   "version": "3.12.7"
  }
 },
 "nbformat": 4,
 "nbformat_minor": 5
}
