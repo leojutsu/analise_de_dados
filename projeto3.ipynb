{
 "cells": [
  {
   "cell_type": "markdown",
   "id": "3d787dfb-a64f-403a-9b92-23971d719025",
   "metadata": {},
   "source": [
    "# Técnicas de Limpeza e Tratamento de Valores Ausentes para Análise de Dados."
   ]
  },
  {
   "cell_type": "markdown",
   "id": "4ea9caa2-c061-4469-b003-c87428603e9b",
   "metadata": {},
   "source": [
    "## Pacotes Python usados no projeto"
   ]
  },
  {
   "cell_type": "code",
   "execution_count": 1,
   "id": "26fcc143-c2e3-4c09-a764-a57b44105145",
   "metadata": {},
   "outputs": [],
   "source": [
    "!pip install -q -U watermark"
   ]
  },
  {
   "cell_type": "code",
   "execution_count": 2,
   "id": "fdc7aed5-7178-47ea-9f34-0428654d13fb",
   "metadata": {},
   "outputs": [],
   "source": [
    "# imports\n",
    "import math\n",
    "import sys, os\n",
    "import numpy as np\n",
    "import pandas as pd\n",
    "import matplotlib.pyplot as plt\n",
    "import matplotlib.image as mpimg\n",
    "import warnings\n",
    "warnings.filterwarnings('ignore')"
   ]
  },
  {
   "cell_type": "code",
   "execution_count": 3,
   "id": "5e304ad4-b5e5-472b-9f35-05a189fa665b",
   "metadata": {},
   "outputs": [
    {
     "name": "stdout",
     "output_type": "stream",
     "text": [
      "Author: Leonardo da Silva Neves\n",
      "\n"
     ]
    }
   ],
   "source": [
    "%reload_ext watermark\n",
    "%watermark -a \"Leonardo da Silva Neves\""
   ]
  },
  {
   "cell_type": "markdown",
   "id": "b53aea6c-5660-4a6b-b0e2-f4f1bdf4ff3d",
   "metadata": {},
   "source": [
    "## Carregando os dados\n",
    "https://pandas.pydata.org/docs/reference/api/pandas.read_csv.html"
   ]
  },
  {
   "cell_type": "code",
   "execution_count": 4,
   "id": "532051f0-11a4-4f72-b6dc-98e46b71e5ae",
   "metadata": {},
   "outputs": [],
   "source": [
    "# Criando uma lista para identificar possíveis representações para valores ausentes\n",
    "lista_labels_valores_ausentes = [\"n/a\", \"na\", \"undefined\"]"
   ]
  },
  {
   "cell_type": "code",
   "execution_count": 5,
   "id": "35e8ea80-5756-4f7e-9b4c-98f5567af7cd",
   "metadata": {},
   "outputs": [],
   "source": [
    "# Carregando o dataset com valores ausentes\n",
    "# O parâmetro na_values identifica os argumentos de entrada como valores NaN. A ultilização\n",
    "# deste parâmetro é valida quando se sabe de ante\n",
    "dataset_dsa = pd.read_csv(\"dataset.csv\", na_values= lista_labels_valores_ausentes)"
   ]
  },
  {
   "cell_type": "code",
   "execution_count": 6,
   "id": "eb204f47-931f-4f08-b07e-d972a7785e51",
   "metadata": {},
   "outputs": [
    {
     "data": {
      "text/plain": [
       "(150001, 55)"
      ]
     },
     "execution_count": 6,
     "metadata": {},
     "output_type": "execute_result"
    }
   ],
   "source": [
    "# Shape\n",
    "dataset_dsa.shape"
   ]
  },
  {
   "cell_type": "code",
   "execution_count": 7,
   "id": "2dab862d-296a-47aa-ba6e-9826c483b831",
   "metadata": {},
   "outputs": [],
   "source": [
    "# Alteração de parâmetro do Pandas \"display.max_columns\" para almentar o número de colunas exibidas ao imprimir o dataframe.\n",
    "pd.set_option('display.max_columns', 100)\n",
    "# Caso o df tenha mais de 100 colunaas, o que passar será trucado."
   ]
  },
  {
   "cell_type": "code",
   "execution_count": 8,
   "id": "b55cbe9f-ab36-4056-8629-b0368e73e040",
   "metadata": {},
   "outputs": [],
   "source": [
    "# Carregando o dicionário de dados\n",
    "dicionario = pd.read_excel('dicionario.xlsx')"
   ]
  },
  {
   "cell_type": "code",
   "execution_count": 8,
   "id": "707cd075-a0e1-41d5-8620-e0665e8fbca5",
   "metadata": {},
   "outputs": [
    {
     "data": {
      "text/plain": [
       "(56, 2)"
      ]
     },
     "execution_count": 8,
     "metadata": {},
     "output_type": "execute_result"
    }
   ],
   "source": [
    "# Shape\n",
    "dicionario.shape"
   ]
  },
  {
   "cell_type": "code",
   "execution_count": 8,
   "id": "cd811aa8-566d-462d-88d0-d08468046148",
   "metadata": {},
   "outputs": [],
   "source": [
    "# Definindo um valor grande para a largura da coluna.\n",
    "pd.set_option('display.max_colwidth', 100)"
   ]
  },
  {
   "cell_type": "code",
   "execution_count": 32,
   "id": "d2694cff-6fcd-4eff-8313-c3b8782cc7ac",
   "metadata": {},
   "outputs": [],
   "source": [
    "# Amostra de dados\n",
    "# dicionario.head()"
   ]
  },
  {
   "cell_type": "markdown",
   "id": "0bc1521e-7b21-4f96-826d-7c7b8f4e1b06",
   "metadata": {},
   "source": [
    "## Análise Exploratória"
   ]
  },
  {
   "cell_type": "code",
   "execution_count": 13,
   "id": "aea2ad6b-7878-477b-9352-2f79bbf28822",
   "metadata": {},
   "outputs": [],
   "source": [
    "# info\n",
    "dataset_dsa.info()"
   ]
  },
  {
   "cell_type": "code",
   "execution_count": 31,
   "id": "e16467d1-5028-4f4a-8ed4-ae9509ff7ba2",
   "metadata": {},
   "outputs": [],
   "source": [
    "# Estatísticas descritivas\n",
    "# dataset_dsa.describe()"
   ]
  },
  {
   "cell_type": "markdown",
   "id": "d84a8949-af4e-4e48-a0ed-b354bbcd4f82",
   "metadata": {},
   "source": [
    "Não faz sentido calcular estatísticas descritivas para variáveis Baread id, IMSI, MSISDN/Number e IMEI Embora essas colunas sejam\n",
    "do tipo numérico, seus valores servem como identificadores. Mas o método describe() calcula as estatísticas de todas as colunas numéricas. Essas estatísticas estão sendo calculadas antes que os dados sejam limpos. Portanto, pode haver mudanças depois que os valores ausentes e outliers são tratados."
   ]
  },
  {
   "cell_type": "code",
   "execution_count": 10,
   "id": "a834b266-a1c5-4535-83ae-8db4d06da27b",
   "metadata": {},
   "outputs": [
    {
     "data": {
      "text/plain": [
       "(150001, 55)"
      ]
     },
     "execution_count": 10,
     "metadata": {},
     "output_type": "execute_result"
    }
   ],
   "source": [
    "# Shape\n",
    "dataset_dsa.shape"
   ]
  },
  {
   "cell_type": "code",
   "execution_count": 11,
   "id": "b3d6c89c-3a15-4727-9f6a-b695c59ba09d",
   "metadata": {},
   "outputs": [
    {
     "data": {
      "text/plain": [
       "(56, 2)"
      ]
     },
     "execution_count": 11,
     "metadata": {},
     "output_type": "execute_result"
    }
   ],
   "source": [
    "dicionario.shape"
   ]
  },
  {
   "cell_type": "markdown",
   "id": "3a8c1dec-3a73-49af-b1be-1c022c4c78de",
   "metadata": {},
   "source": [
    "Existem 150.001 linhas e 55 colunas no dataframe. No entando, temos 56 colunas com seus nomes e descrições no dicionário.\n",
    "Isso significa que há uma coluna descrita, mas não incluída no dataframe."
   ]
  },
  {
   "cell_type": "code",
   "execution_count": 9,
   "id": "458e621f-66fb-4ef5-a111-0ed4653a62bf",
   "metadata": {},
   "outputs": [],
   "source": [
    "# Concatenar os datasets para comparação de variáveis (lado a lado)\n",
    "df_compara_colunas = pd.concat([pd.Series(dataset_dsa.columns.tolist()), dicionario['Fields']], axis=1)"
   ]
  },
  {
   "cell_type": "code",
   "execution_count": 10,
   "id": "f4a4f2d7-b20f-4167-a2df-1b1464ddb038",
   "metadata": {},
   "outputs": [
    {
     "data": {
      "text/plain": [
       "Index([0, 'Fields'], dtype='object')"
      ]
     },
     "execution_count": 10,
     "metadata": {},
     "output_type": "execute_result"
    }
   ],
   "source": [
    "df_compara_colunas.columns"
   ]
  },
  {
   "cell_type": "code",
   "execution_count": 11,
   "id": "a7cb54bb-96d5-47bd-9612-81e929237a97",
   "metadata": {},
   "outputs": [],
   "source": [
    "# Renomeia as colunas do df_compara_colunas\n",
    "df_compara_colunas.rename(columns = {0:'Coluna do Dataset', 'Fields': 'Coluna do Dicionário'}, inplace = True)"
   ]
  },
  {
   "cell_type": "code",
   "execution_count": 12,
   "id": "12b0f475-5dbc-4b01-aeb9-001ceac5b575",
   "metadata": {},
   "outputs": [],
   "source": [
    "# df_compara_colunas"
   ]
  },
  {
   "cell_type": "markdown",
   "id": "82ffbc3e-564a-4056-95c1-23ab6f9facfa",
   "metadata": {},
   "source": [
    "\"Dur.(Ms)\" é ignorado no dataset como visto no indice 1 em df_compara_colunas. É ai que a ordem das colunas começa a mudar.\n",
    "Mas o mesmo nome da coluna \"Dur.(Ms)\" aparece no dataser no indice 5, enquanto o arquivo de dicionário nos diz que é \"Dur.(S)\"\n",
    "no indice 6. Como as medidas de ambas as colunas diferem conforme mostrado em seus nomes, nós precisamos verificar qual está\n",
    "certo. Para investigar isso, usaremos a coluna \"Dur.(Ms).1\" que se encontra nos indices 28 e 29 no dataset e no arquivo de dicionário,\n",
    "respectivamente."
   ]
  },
  {
   "cell_type": "code",
   "execution_count": 13,
   "id": "b2df10f3-b484-4dea-b24d-56bb494e71ef",
   "metadata": {},
   "outputs": [
    {
     "data": {
      "text/html": [
       "<div>\n",
       "<style scoped>\n",
       "    .dataframe tbody tr th:only-of-type {\n",
       "        vertical-align: middle;\n",
       "    }\n",
       "\n",
       "    .dataframe tbody tr th {\n",
       "        vertical-align: top;\n",
       "    }\n",
       "\n",
       "    .dataframe thead th {\n",
       "        text-align: right;\n",
       "    }\n",
       "</style>\n",
       "<table border=\"1\" class=\"dataframe\">\n",
       "  <thead>\n",
       "    <tr style=\"text-align: right;\">\n",
       "      <th></th>\n",
       "      <th>Dur. (ms)</th>\n",
       "      <th>Dur. (ms).1</th>\n",
       "    </tr>\n",
       "  </thead>\n",
       "  <tbody>\n",
       "    <tr>\n",
       "      <th>0</th>\n",
       "      <td>1823652.0</td>\n",
       "      <td>1.823653e+09</td>\n",
       "    </tr>\n",
       "    <tr>\n",
       "      <th>1</th>\n",
       "      <td>1365104.0</td>\n",
       "      <td>1.365104e+09</td>\n",
       "    </tr>\n",
       "    <tr>\n",
       "      <th>2</th>\n",
       "      <td>1361762.0</td>\n",
       "      <td>1.361763e+09</td>\n",
       "    </tr>\n",
       "    <tr>\n",
       "      <th>3</th>\n",
       "      <td>1321509.0</td>\n",
       "      <td>1.321510e+09</td>\n",
       "    </tr>\n",
       "    <tr>\n",
       "      <th>4</th>\n",
       "      <td>1089009.0</td>\n",
       "      <td>1.089009e+09</td>\n",
       "    </tr>\n",
       "    <tr>\n",
       "      <th>...</th>\n",
       "      <td>...</td>\n",
       "      <td>...</td>\n",
       "    </tr>\n",
       "    <tr>\n",
       "      <th>149996</th>\n",
       "      <td>81230.0</td>\n",
       "      <td>8.123076e+07</td>\n",
       "    </tr>\n",
       "    <tr>\n",
       "      <th>149997</th>\n",
       "      <td>97970.0</td>\n",
       "      <td>9.797070e+07</td>\n",
       "    </tr>\n",
       "    <tr>\n",
       "      <th>149998</th>\n",
       "      <td>98249.0</td>\n",
       "      <td>9.824953e+07</td>\n",
       "    </tr>\n",
       "    <tr>\n",
       "      <th>149999</th>\n",
       "      <td>97910.0</td>\n",
       "      <td>9.791063e+07</td>\n",
       "    </tr>\n",
       "    <tr>\n",
       "      <th>150000</th>\n",
       "      <td>NaN</td>\n",
       "      <td>NaN</td>\n",
       "    </tr>\n",
       "  </tbody>\n",
       "</table>\n",
       "<p>150001 rows × 2 columns</p>\n",
       "</div>"
      ],
      "text/plain": [
       "        Dur. (ms)   Dur. (ms).1\n",
       "0       1823652.0  1.823653e+09\n",
       "1       1365104.0  1.365104e+09\n",
       "2       1361762.0  1.361763e+09\n",
       "3       1321509.0  1.321510e+09\n",
       "4       1089009.0  1.089009e+09\n",
       "...           ...           ...\n",
       "149996    81230.0  8.123076e+07\n",
       "149997    97970.0  9.797070e+07\n",
       "149998    98249.0  9.824953e+07\n",
       "149999    97910.0  9.791063e+07\n",
       "150000        NaN           NaN\n",
       "\n",
       "[150001 rows x 2 columns]"
      ]
     },
     "execution_count": 13,
     "metadata": {},
     "output_type": "execute_result"
    }
   ],
   "source": [
    "# Filtro de colunas no df dataset_dsa para verificar se os valores das variáveis são identicos mas com\n",
    "# o nome de coluna diferente. (duplicação de variável).\n",
    "dataset_dsa[['Dur. (ms)', 'Dur. (ms).1']]"
   ]
  },
  {
   "cell_type": "markdown",
   "id": "c48bb756-3039-4a17-aafc-211fb4a0534f",
   "metadata": {},
   "source": [
    "Parece que a coluna \"Dur. (Ms)\" é medida em segundos. Portanto, vamos renomeá-la apropriadamente. Vamos também renomear\n",
    "algumas colunas para que fiquem claras como sua descrição e sigam o estilo de nomenclatura de outras colunas."
   ]
  },
  {
   "cell_type": "code",
   "execution_count": 14,
   "id": "1ed0f2f6-8c3b-447c-bf10-d7d6129dc13d",
   "metadata": {},
   "outputs": [],
   "source": [
    "# Renomear as colunas do df dataset_dsa (parâmetro inplace = True para salvar no próprio df).\n",
    "dataset_dsa.rename(columns= {'Dur. (ms)': 'Dur (s)',\n",
    "                             'Dur. (ma).1': 'Dur (ms)',\n",
    "                             'Start ms' : 'Start Offset (ms)',\n",
    "                             'End ms': 'End Offset (ms)'},\n",
    "                   inplace = True)"
   ]
  },
  {
   "cell_type": "code",
   "execution_count": 15,
   "id": "1fc53972-4030-49e6-9853-b943458e08f0",
   "metadata": {},
   "outputs": [
    {
     "data": {
      "text/plain": [
       "(150001, 55)"
      ]
     },
     "execution_count": 15,
     "metadata": {},
     "output_type": "execute_result"
    }
   ],
   "source": [
    "# Lista de colunas do dataset\n",
    "dataset_dsa.shape"
   ]
  },
  {
   "cell_type": "markdown",
   "id": "2f7d3a30-2e4c-4490-b549-9ac53524262e",
   "metadata": {},
   "source": [
    "## Etapa 1 - Tratamento de Valores Ausentes\n",
    "\n",
    "- 1- Identificando Valores Ausentes\n",
    "- 2- Drop de Colunas\n",
    "- 3- Imputação com Preenchimento Reverso\n",
    "- 4- Imputação com Preenchimento Progressivo\n",
    "- 5- Imputação de Variáceis Categóricas\n",
    "- 6- Drop de Linhas"
   ]
  },
  {
   "cell_type": "markdown",
   "id": "4b9b7d10-7457-411c-983b-1c797e2a6021",
   "metadata": {},
   "source": [
    "## 1.1 Identificando Valores Ausentes"
   ]
  },
  {
   "cell_type": "code",
   "execution_count": 16,
   "id": "9e0043e3-5b77-406c-9d5b-1334cca611df",
   "metadata": {},
   "outputs": [
    {
     "name": "stdout",
     "output_type": "stream",
     "text": [
      "(150001, 55)\n"
     ]
    },
    {
     "data": {
      "text/plain": [
       "8250055"
      ]
     },
     "execution_count": 16,
     "metadata": {},
     "output_type": "execute_result"
    }
   ],
   "source": [
    "print(dataset_dsa.shape)\n",
    "np.product(dataset_dsa.shape)"
   ]
  },
  {
   "cell_type": "code",
   "execution_count": 17,
   "id": "d6460968-150f-4a74-9a48-90467088243c",
   "metadata": {},
   "outputs": [],
   "source": [
    "# Função que calcula o percentual de valores ausentes no dataset (Geral)\n",
    "def calc_percent_valores_ausentes(df):\n",
    "    #calcula o total de celulas do df\n",
    "    total_cells = np.product(df.shape)\n",
    "\n",
    "    # conta o número de valores ausentes por coluna\n",
    "    missing_count = df.isnull().sum()\n",
    "\n",
    "    # calcula o tatal de valores ausentes\n",
    "    totalMissing = missing_count.sum()\n",
    "\n",
    "    # Calcula o percentual de valores ausentes\n",
    "    print(\"O dataset tem\", round(((totalMissing / total_cells) * 100), 2), \"%\", \"de valores ausentes.\")"
   ]
  },
  {
   "cell_type": "code",
   "execution_count": 18,
   "id": "51fcca1e-f541-4c1b-aed3-1f69de769184",
   "metadata": {},
   "outputs": [
    {
     "name": "stdout",
     "output_type": "stream",
     "text": [
      "O dataset tem 12.72 % de valores ausentes.\n"
     ]
    }
   ],
   "source": [
    "# Chamando a função para descobrir o percentual de valores ausentes no df\n",
    "calc_percent_valores_ausentes(dataset_dsa)"
   ]
  },
  {
   "cell_type": "code",
   "execution_count": 19,
   "id": "56d083a8-980d-4859-91ed-05a41b618078",
   "metadata": {},
   "outputs": [],
   "source": [
    "# função para calcular valores ausentes por coluna.\n",
    "def calc_perc_val_aus_cols(df):\n",
    "    # Total de valores ausentes\n",
    "    mis_val = df.isnull().sum()\n",
    "    # Percentual de valores ausentes\n",
    "    mis_val_percent = 100 * mis_val / len(df)\n",
    "    # Tipo de dados das colunas com valores ausentes\n",
    "    mis_val_dtypes = df.dtypes\n",
    "    # Criando uma tabela com os resultados\n",
    "    mis_val_table = pd.concat([mis_val, mis_val_percent, mis_val_dtypes], axis=1)\n",
    "\n",
    "    # Renomear as colunas\n",
    "    mis_val_table_ren_columns = mis_val_table.rename(\n",
    "            columns = {0: 'Valores Ausentes', 1: '% de Valores Ausentes', 2: 'Dtypes'})\n",
    "    # Classifica a tabela por porcentagem de valores ausentes de forma decresvcente e remove colunas sem valores ausentes\n",
    "    mis_val_table_ren_columns = mis_val_table_ren_columns[mis_val_table_ren_columns.iloc[:,0] != 0].sort_values('% de Valores Ausentes', ascending = False).round(2)\n",
    "    \n",
    "    # Print\n",
    "    print(\"O dataset tem \" + str(df.shape[1]) + \" colunas.\\n\"\n",
    "         \"Encontrado: \" + str(mis_val_table_ren_columns.shape[0]) + \" colunas que têm valores ausentes.\")\n",
    "    if mis_val_table_ren_columns.shape[0] == 0:\n",
    "        return\n",
    "\n",
    "    # Retorna o dataframe com informações ausentes\n",
    "    return mis_val_table_ren_columns"
   ]
  },
  {
   "cell_type": "code",
   "execution_count": 20,
   "id": "995eec66-12a4-4768-a95e-b45b9d3cc601",
   "metadata": {},
   "outputs": [
    {
     "name": "stdout",
     "output_type": "stream",
     "text": [
      "O dataset tem 55 colunas.\n",
      "Encontrado: 41 colunas que têm valores ausentes.\n"
     ]
    }
   ],
   "source": [
    "# Criar tabelas com valores ausentes\n",
    "df_missing = calc_perc_val_aus_cols(dataset_dsa)"
   ]
  },
  {
   "cell_type": "code",
   "execution_count": 21,
   "id": "3162990c-4421-46e9-a13c-e2d636265768",
   "metadata": {},
   "outputs": [
    {
     "data": {
      "text/html": [
       "<div>\n",
       "<style scoped>\n",
       "    .dataframe tbody tr th:only-of-type {\n",
       "        vertical-align: middle;\n",
       "    }\n",
       "\n",
       "    .dataframe tbody tr th {\n",
       "        vertical-align: top;\n",
       "    }\n",
       "\n",
       "    .dataframe thead th {\n",
       "        text-align: right;\n",
       "    }\n",
       "</style>\n",
       "<table border=\"1\" class=\"dataframe\">\n",
       "  <thead>\n",
       "    <tr style=\"text-align: right;\">\n",
       "      <th></th>\n",
       "      <th>Valores Ausentes</th>\n",
       "      <th>% de Valores Ausentes</th>\n",
       "      <th>Dtypes</th>\n",
       "    </tr>\n",
       "  </thead>\n",
       "  <tbody>\n",
       "    <tr>\n",
       "      <th>Nb of sec with 37500B &lt; Vol UL</th>\n",
       "      <td>130254</td>\n",
       "      <td>86.84</td>\n",
       "      <td>float64</td>\n",
       "    </tr>\n",
       "    <tr>\n",
       "      <th>Nb of sec with 6250B &lt; Vol UL &lt; 37500B</th>\n",
       "      <td>111843</td>\n",
       "      <td>74.56</td>\n",
       "      <td>float64</td>\n",
       "    </tr>\n",
       "    <tr>\n",
       "      <th>Nb of sec with 125000B &lt; Vol DL</th>\n",
       "      <td>97538</td>\n",
       "      <td>65.02</td>\n",
       "      <td>float64</td>\n",
       "    </tr>\n",
       "    <tr>\n",
       "      <th>TCP UL Retrans. Vol (Bytes)</th>\n",
       "      <td>96649</td>\n",
       "      <td>64.43</td>\n",
       "      <td>float64</td>\n",
       "    </tr>\n",
       "    <tr>\n",
       "      <th>Nb of sec with 31250B &lt; Vol DL &lt; 125000B</th>\n",
       "      <td>93586</td>\n",
       "      <td>62.39</td>\n",
       "      <td>float64</td>\n",
       "    </tr>\n",
       "    <tr>\n",
       "      <th>Nb of sec with 1250B &lt; Vol UL &lt; 6250B</th>\n",
       "      <td>92894</td>\n",
       "      <td>61.93</td>\n",
       "      <td>float64</td>\n",
       "    </tr>\n",
       "    <tr>\n",
       "      <th>Nb of sec with 6250B &lt; Vol DL &lt; 31250B</th>\n",
       "      <td>88317</td>\n",
       "      <td>58.88</td>\n",
       "      <td>float64</td>\n",
       "    </tr>\n",
       "    <tr>\n",
       "      <th>TCP DL Retrans. Vol (Bytes)</th>\n",
       "      <td>88146</td>\n",
       "      <td>58.76</td>\n",
       "      <td>float64</td>\n",
       "    </tr>\n",
       "    <tr>\n",
       "      <th>HTTP UL (Bytes)</th>\n",
       "      <td>81810</td>\n",
       "      <td>54.54</td>\n",
       "      <td>float64</td>\n",
       "    </tr>\n",
       "    <tr>\n",
       "      <th>HTTP DL (Bytes)</th>\n",
       "      <td>81474</td>\n",
       "      <td>54.32</td>\n",
       "      <td>float64</td>\n",
       "    </tr>\n",
       "    <tr>\n",
       "      <th>Avg RTT DL (ms)</th>\n",
       "      <td>27829</td>\n",
       "      <td>18.55</td>\n",
       "      <td>float64</td>\n",
       "    </tr>\n",
       "    <tr>\n",
       "      <th>Avg RTT UL (ms)</th>\n",
       "      <td>27812</td>\n",
       "      <td>18.54</td>\n",
       "      <td>float64</td>\n",
       "    </tr>\n",
       "    <tr>\n",
       "      <th>Handset Manufacturer</th>\n",
       "      <td>9559</td>\n",
       "      <td>6.37</td>\n",
       "      <td>object</td>\n",
       "    </tr>\n",
       "    <tr>\n",
       "      <th>Handset Type</th>\n",
       "      <td>9559</td>\n",
       "      <td>6.37</td>\n",
       "      <td>object</td>\n",
       "    </tr>\n",
       "    <tr>\n",
       "      <th>Last Location Name</th>\n",
       "      <td>1153</td>\n",
       "      <td>0.77</td>\n",
       "      <td>object</td>\n",
       "    </tr>\n",
       "    <tr>\n",
       "      <th>MSISDN/Number</th>\n",
       "      <td>1066</td>\n",
       "      <td>0.71</td>\n",
       "      <td>float64</td>\n",
       "    </tr>\n",
       "    <tr>\n",
       "      <th>Bearer Id</th>\n",
       "      <td>991</td>\n",
       "      <td>0.66</td>\n",
       "      <td>float64</td>\n",
       "    </tr>\n",
       "    <tr>\n",
       "      <th>Nb of sec with Vol UL &lt; 1250B</th>\n",
       "      <td>793</td>\n",
       "      <td>0.53</td>\n",
       "      <td>float64</td>\n",
       "    </tr>\n",
       "    <tr>\n",
       "      <th>10 Kbps &lt; UL TP &lt; 50 Kbps (%)</th>\n",
       "      <td>792</td>\n",
       "      <td>0.53</td>\n",
       "      <td>float64</td>\n",
       "    </tr>\n",
       "    <tr>\n",
       "      <th>UL TP &gt; 300 Kbps (%)</th>\n",
       "      <td>792</td>\n",
       "      <td>0.53</td>\n",
       "      <td>float64</td>\n",
       "    </tr>\n",
       "    <tr>\n",
       "      <th>50 Kbps &lt; UL TP &lt; 300 Kbps (%)</th>\n",
       "      <td>792</td>\n",
       "      <td>0.53</td>\n",
       "      <td>float64</td>\n",
       "    </tr>\n",
       "    <tr>\n",
       "      <th>UL TP &lt; 10 Kbps (%)</th>\n",
       "      <td>792</td>\n",
       "      <td>0.53</td>\n",
       "      <td>float64</td>\n",
       "    </tr>\n",
       "    <tr>\n",
       "      <th>Nb of sec with Vol DL &lt; 6250B</th>\n",
       "      <td>755</td>\n",
       "      <td>0.50</td>\n",
       "      <td>float64</td>\n",
       "    </tr>\n",
       "    <tr>\n",
       "      <th>250 Kbps &lt; DL TP &lt; 1 Mbps (%)</th>\n",
       "      <td>754</td>\n",
       "      <td>0.50</td>\n",
       "      <td>float64</td>\n",
       "    </tr>\n",
       "    <tr>\n",
       "      <th>50 Kbps &lt; DL TP &lt; 250 Kbps (%)</th>\n",
       "      <td>754</td>\n",
       "      <td>0.50</td>\n",
       "      <td>float64</td>\n",
       "    </tr>\n",
       "    <tr>\n",
       "      <th>DL TP &lt; 50 Kbps (%)</th>\n",
       "      <td>754</td>\n",
       "      <td>0.50</td>\n",
       "      <td>float64</td>\n",
       "    </tr>\n",
       "    <tr>\n",
       "      <th>DL TP &gt; 1 Mbps (%)</th>\n",
       "      <td>754</td>\n",
       "      <td>0.50</td>\n",
       "      <td>float64</td>\n",
       "    </tr>\n",
       "    <tr>\n",
       "      <th>IMEI</th>\n",
       "      <td>572</td>\n",
       "      <td>0.38</td>\n",
       "      <td>float64</td>\n",
       "    </tr>\n",
       "    <tr>\n",
       "      <th>IMSI</th>\n",
       "      <td>570</td>\n",
       "      <td>0.38</td>\n",
       "      <td>float64</td>\n",
       "    </tr>\n",
       "    <tr>\n",
       "      <th>Start</th>\n",
       "      <td>1</td>\n",
       "      <td>0.00</td>\n",
       "      <td>object</td>\n",
       "    </tr>\n",
       "    <tr>\n",
       "      <th>End Offset (ms)</th>\n",
       "      <td>1</td>\n",
       "      <td>0.00</td>\n",
       "      <td>float64</td>\n",
       "    </tr>\n",
       "    <tr>\n",
       "      <th>Total UL (Bytes)</th>\n",
       "      <td>1</td>\n",
       "      <td>0.00</td>\n",
       "      <td>float64</td>\n",
       "    </tr>\n",
       "    <tr>\n",
       "      <th>Start Offset (ms)</th>\n",
       "      <td>1</td>\n",
       "      <td>0.00</td>\n",
       "      <td>float64</td>\n",
       "    </tr>\n",
       "    <tr>\n",
       "      <th>End</th>\n",
       "      <td>1</td>\n",
       "      <td>0.00</td>\n",
       "      <td>object</td>\n",
       "    </tr>\n",
       "    <tr>\n",
       "      <th>Avg Bearer TP DL (kbps)</th>\n",
       "      <td>1</td>\n",
       "      <td>0.00</td>\n",
       "      <td>float64</td>\n",
       "    </tr>\n",
       "    <tr>\n",
       "      <th>Dur (s)</th>\n",
       "      <td>1</td>\n",
       "      <td>0.00</td>\n",
       "      <td>float64</td>\n",
       "    </tr>\n",
       "    <tr>\n",
       "      <th>Avg Bearer TP UL (kbps)</th>\n",
       "      <td>1</td>\n",
       "      <td>0.00</td>\n",
       "      <td>float64</td>\n",
       "    </tr>\n",
       "    <tr>\n",
       "      <th>Dur. (ms).1</th>\n",
       "      <td>1</td>\n",
       "      <td>0.00</td>\n",
       "      <td>float64</td>\n",
       "    </tr>\n",
       "    <tr>\n",
       "      <th>Activity Duration UL (ms)</th>\n",
       "      <td>1</td>\n",
       "      <td>0.00</td>\n",
       "      <td>float64</td>\n",
       "    </tr>\n",
       "    <tr>\n",
       "      <th>Activity Duration DL (ms)</th>\n",
       "      <td>1</td>\n",
       "      <td>0.00</td>\n",
       "      <td>float64</td>\n",
       "    </tr>\n",
       "    <tr>\n",
       "      <th>Total DL (Bytes)</th>\n",
       "      <td>1</td>\n",
       "      <td>0.00</td>\n",
       "      <td>float64</td>\n",
       "    </tr>\n",
       "  </tbody>\n",
       "</table>\n",
       "</div>"
      ],
      "text/plain": [
       "                                          Valores Ausentes  \\\n",
       "Nb of sec with 37500B < Vol UL                      130254   \n",
       "Nb of sec with 6250B < Vol UL < 37500B              111843   \n",
       "Nb of sec with 125000B < Vol DL                      97538   \n",
       "TCP UL Retrans. Vol (Bytes)                          96649   \n",
       "Nb of sec with 31250B < Vol DL < 125000B             93586   \n",
       "Nb of sec with 1250B < Vol UL < 6250B                92894   \n",
       "Nb of sec with 6250B < Vol DL < 31250B               88317   \n",
       "TCP DL Retrans. Vol (Bytes)                          88146   \n",
       "HTTP UL (Bytes)                                      81810   \n",
       "HTTP DL (Bytes)                                      81474   \n",
       "Avg RTT DL (ms)                                      27829   \n",
       "Avg RTT UL (ms)                                      27812   \n",
       "Handset Manufacturer                                  9559   \n",
       "Handset Type                                          9559   \n",
       "Last Location Name                                    1153   \n",
       "MSISDN/Number                                         1066   \n",
       "Bearer Id                                              991   \n",
       "Nb of sec with Vol UL < 1250B                          793   \n",
       "10 Kbps < UL TP < 50 Kbps (%)                          792   \n",
       "UL TP > 300 Kbps (%)                                   792   \n",
       "50 Kbps < UL TP < 300 Kbps (%)                         792   \n",
       "UL TP < 10 Kbps (%)                                    792   \n",
       "Nb of sec with Vol DL < 6250B                          755   \n",
       "250 Kbps < DL TP < 1 Mbps (%)                          754   \n",
       "50 Kbps < DL TP < 250 Kbps (%)                         754   \n",
       "DL TP < 50 Kbps (%)                                    754   \n",
       "DL TP > 1 Mbps (%)                                     754   \n",
       "IMEI                                                   572   \n",
       "IMSI                                                   570   \n",
       "Start                                                    1   \n",
       "End Offset (ms)                                          1   \n",
       "Total UL (Bytes)                                         1   \n",
       "Start Offset (ms)                                        1   \n",
       "End                                                      1   \n",
       "Avg Bearer TP DL (kbps)                                  1   \n",
       "Dur (s)                                                  1   \n",
       "Avg Bearer TP UL (kbps)                                  1   \n",
       "Dur. (ms).1                                              1   \n",
       "Activity Duration UL (ms)                                1   \n",
       "Activity Duration DL (ms)                                1   \n",
       "Total DL (Bytes)                                         1   \n",
       "\n",
       "                                          % de Valores Ausentes   Dtypes  \n",
       "Nb of sec with 37500B < Vol UL                            86.84  float64  \n",
       "Nb of sec with 6250B < Vol UL < 37500B                    74.56  float64  \n",
       "Nb of sec with 125000B < Vol DL                           65.02  float64  \n",
       "TCP UL Retrans. Vol (Bytes)                               64.43  float64  \n",
       "Nb of sec with 31250B < Vol DL < 125000B                  62.39  float64  \n",
       "Nb of sec with 1250B < Vol UL < 6250B                     61.93  float64  \n",
       "Nb of sec with 6250B < Vol DL < 31250B                    58.88  float64  \n",
       "TCP DL Retrans. Vol (Bytes)                               58.76  float64  \n",
       "HTTP UL (Bytes)                                           54.54  float64  \n",
       "HTTP DL (Bytes)                                           54.32  float64  \n",
       "Avg RTT DL (ms)                                           18.55  float64  \n",
       "Avg RTT UL (ms)                                           18.54  float64  \n",
       "Handset Manufacturer                                       6.37   object  \n",
       "Handset Type                                               6.37   object  \n",
       "Last Location Name                                         0.77   object  \n",
       "MSISDN/Number                                              0.71  float64  \n",
       "Bearer Id                                                  0.66  float64  \n",
       "Nb of sec with Vol UL < 1250B                              0.53  float64  \n",
       "10 Kbps < UL TP < 50 Kbps (%)                              0.53  float64  \n",
       "UL TP > 300 Kbps (%)                                       0.53  float64  \n",
       "50 Kbps < UL TP < 300 Kbps (%)                             0.53  float64  \n",
       "UL TP < 10 Kbps (%)                                        0.53  float64  \n",
       "Nb of sec with Vol DL < 6250B                              0.50  float64  \n",
       "250 Kbps < DL TP < 1 Mbps (%)                              0.50  float64  \n",
       "50 Kbps < DL TP < 250 Kbps (%)                             0.50  float64  \n",
       "DL TP < 50 Kbps (%)                                        0.50  float64  \n",
       "DL TP > 1 Mbps (%)                                         0.50  float64  \n",
       "IMEI                                                       0.38  float64  \n",
       "IMSI                                                       0.38  float64  \n",
       "Start                                                      0.00   object  \n",
       "End Offset (ms)                                            0.00  float64  \n",
       "Total UL (Bytes)                                           0.00  float64  \n",
       "Start Offset (ms)                                          0.00  float64  \n",
       "End                                                        0.00   object  \n",
       "Avg Bearer TP DL (kbps)                                    0.00  float64  \n",
       "Dur (s)                                                    0.00  float64  \n",
       "Avg Bearer TP UL (kbps)                                    0.00  float64  \n",
       "Dur. (ms).1                                                0.00  float64  \n",
       "Activity Duration UL (ms)                                  0.00  float64  \n",
       "Activity Duration DL (ms)                                  0.00  float64  \n",
       "Total DL (Bytes)                                           0.00  float64  "
      ]
     },
     "execution_count": 21,
     "metadata": {},
     "output_type": "execute_result"
    }
   ],
   "source": [
    "# Visualizar o df_missing\n",
    "df_missing"
   ]
  },
  {
   "cell_type": "markdown",
   "id": "5e2473f3-8934-41a8-be88-614aa0a3f07f",
   "metadata": {},
   "source": [
    "Normalmente, colunas com mais de 50% de valores ausentes devem ser removidas. Entre 30 e 50% é opcional.\n",
    "\n",
    "Mas a última é sempre do analista de dados! Lembrar-se sempre se justificar a decisão.\n",
    "\n",
    "Neste projeto vamos remover colunas cujos valores ausentes representam mais de 30% da variável, pois temos um número\n",
    "muito grande de colunas com valores ausentes e, portanto, muito trabalho. Vamos tratar as variáveis com percentual baixo e deletar\n",
    "aquelas que tiverem percentual alto de valores ausentes."
   ]
  },
  {
   "cell_type": "markdown",
   "id": "3be8a0cc-793d-456b-b246-a37be42f605b",
   "metadata": {},
   "source": [
    "## 1.2 Drop de Colunas"
   ]
  },
  {
   "cell_type": "code",
   "execution_count": 22,
   "id": "935d11d8-869d-423e-852e-a91f00462d31",
   "metadata": {},
   "outputs": [],
   "source": [
    "# Criando um df filtrando as colunas candidata ao a serem removidas.\n",
    "colunas_para_remover = df_missing[df_missing['% de Valores Ausentes'] >= 30.00].index.tolist()"
   ]
  },
  {
   "cell_type": "code",
   "execution_count": 23,
   "id": "f64ee304-7825-4596-a62c-5a14c3f7cbf1",
   "metadata": {},
   "outputs": [
    {
     "data": {
      "text/plain": [
       "['Nb of sec with 37500B < Vol UL',\n",
       " 'Nb of sec with 6250B < Vol UL < 37500B',\n",
       " 'Nb of sec with 125000B < Vol DL',\n",
       " 'TCP UL Retrans. Vol (Bytes)',\n",
       " 'Nb of sec with 31250B < Vol DL < 125000B',\n",
       " 'Nb of sec with 1250B < Vol UL < 6250B',\n",
       " 'Nb of sec with 6250B < Vol DL < 31250B',\n",
       " 'TCP DL Retrans. Vol (Bytes)',\n",
       " 'HTTP UL (Bytes)',\n",
       " 'HTTP DL (Bytes)']"
      ]
     },
     "execution_count": 23,
     "metadata": {},
     "output_type": "execute_result"
    }
   ],
   "source": [
    "# Colunas que serão removidas\n",
    "colunas_para_remover"
   ]
  },
  {
   "cell_type": "markdown",
   "id": "d9375507-7f32-4ae0-83bb-10b22b876766",
   "metadata": {},
   "source": [
    "Mesmo que as variáveis \"TCP\" tenham muitos valores ausentes, em vez removê-las, o instrutor irá ensinar como imputar valores a\n",
    "essas variáveis, uma vez que elas podem ser necessárias para a análise posterior."
   ]
  },
  {
   "cell_type": "code",
   "execution_count": 30,
   "id": "51e672e3-6b80-4cfc-8d72-353089cad061",
   "metadata": {},
   "outputs": [],
   "source": [
    "# Colunas que serão removidas\n",
    "colunas_para_remover = [col for col in colunas_para_remover if col not in ['TCP UL Retrans. Vol (Bytes)', 'TCP DL Retrans. Vol (Bytes)']]"
   ]
  },
  {
   "cell_type": "code",
   "execution_count": 31,
   "id": "9c48ce1a-ccc7-41d9-aac4-11882966f6a2",
   "metadata": {},
   "outputs": [
    {
     "data": {
      "text/plain": [
       "['Nb of sec with 37500B < Vol UL',\n",
       " 'Nb of sec with 6250B < Vol UL < 37500B',\n",
       " 'Nb of sec with 125000B < Vol DL',\n",
       " 'Nb of sec with 31250B < Vol DL < 125000B',\n",
       " 'Nb of sec with 1250B < Vol UL < 6250B',\n",
       " 'Nb of sec with 6250B < Vol DL < 31250B',\n",
       " 'HTTP UL (Bytes)',\n",
       " 'HTTP DL (Bytes)']"
      ]
     },
     "execution_count": 31,
     "metadata": {},
     "output_type": "execute_result"
    }
   ],
   "source": [
    "# Colunas que serão removidas\n",
    "colunas_para_remover"
   ]
  },
  {
   "cell_type": "code",
   "execution_count": 32,
   "id": "3895f939-aeb2-47e8-afa3-93b497356ab0",
   "metadata": {},
   "outputs": [],
   "source": [
    "# Drop das colunas e criação de outro df\n",
    "dataset_limpo = dataset_dsa.drop(colunas_para_remover, axis=1)"
   ]
  },
  {
   "cell_type": "code",
   "execution_count": 33,
   "id": "b705c37e-b32d-48ce-9411-c2922291e13a",
   "metadata": {},
   "outputs": [
    {
     "data": {
      "text/plain": [
       "(150001, 47)"
      ]
     },
     "execution_count": 33,
     "metadata": {},
     "output_type": "execute_result"
    }
   ],
   "source": [
    "# Shape\n",
    "dataset_limpo.shape"
   ]
  },
  {
   "cell_type": "markdown",
   "id": "4443f8fb-5c39-47e4-9959-6d871fe881d5",
   "metadata": {},
   "source": [
    "Verifica novamente o status dos valores ausentes no dataframe modificado."
   ]
  },
  {
   "cell_type": "code",
   "execution_count": 34,
   "id": "abfac5c8-90e3-4d52-b30c-320cf60e20ab",
   "metadata": {},
   "outputs": [
    {
     "name": "stdout",
     "output_type": "stream",
     "text": [
      "O dataset tem 3.85 % de valores ausentes.\n"
     ]
    }
   ],
   "source": [
    "calc_percent_valores_ausentes(dataset_limpo)"
   ]
  },
  {
   "cell_type": "code",
   "execution_count": 37,
   "id": "e32621d0-1a1b-40ee-90bf-5105402f4f2f",
   "metadata": {},
   "outputs": [
    {
     "name": "stdout",
     "output_type": "stream",
     "text": [
      "O dataset tem 47 colunas.\n",
      "Encontrado: 33 colunas que têm valores ausentes.\n"
     ]
    },
    {
     "data": {
      "text/html": [
       "<div>\n",
       "<style scoped>\n",
       "    .dataframe tbody tr th:only-of-type {\n",
       "        vertical-align: middle;\n",
       "    }\n",
       "\n",
       "    .dataframe tbody tr th {\n",
       "        vertical-align: top;\n",
       "    }\n",
       "\n",
       "    .dataframe thead th {\n",
       "        text-align: right;\n",
       "    }\n",
       "</style>\n",
       "<table border=\"1\" class=\"dataframe\">\n",
       "  <thead>\n",
       "    <tr style=\"text-align: right;\">\n",
       "      <th></th>\n",
       "      <th>Valores Ausentes</th>\n",
       "      <th>% de Valores Ausentes</th>\n",
       "      <th>Dtypes</th>\n",
       "    </tr>\n",
       "  </thead>\n",
       "  <tbody>\n",
       "    <tr>\n",
       "      <th>TCP UL Retrans. Vol (Bytes)</th>\n",
       "      <td>96649</td>\n",
       "      <td>64.43</td>\n",
       "      <td>float64</td>\n",
       "    </tr>\n",
       "    <tr>\n",
       "      <th>TCP DL Retrans. Vol (Bytes)</th>\n",
       "      <td>88146</td>\n",
       "      <td>58.76</td>\n",
       "      <td>float64</td>\n",
       "    </tr>\n",
       "    <tr>\n",
       "      <th>Avg RTT DL (ms)</th>\n",
       "      <td>27829</td>\n",
       "      <td>18.55</td>\n",
       "      <td>float64</td>\n",
       "    </tr>\n",
       "    <tr>\n",
       "      <th>Avg RTT UL (ms)</th>\n",
       "      <td>27812</td>\n",
       "      <td>18.54</td>\n",
       "      <td>float64</td>\n",
       "    </tr>\n",
       "    <tr>\n",
       "      <th>Handset Type</th>\n",
       "      <td>9559</td>\n",
       "      <td>6.37</td>\n",
       "      <td>object</td>\n",
       "    </tr>\n",
       "    <tr>\n",
       "      <th>Handset Manufacturer</th>\n",
       "      <td>9559</td>\n",
       "      <td>6.37</td>\n",
       "      <td>object</td>\n",
       "    </tr>\n",
       "    <tr>\n",
       "      <th>Last Location Name</th>\n",
       "      <td>1153</td>\n",
       "      <td>0.77</td>\n",
       "      <td>object</td>\n",
       "    </tr>\n",
       "    <tr>\n",
       "      <th>MSISDN/Number</th>\n",
       "      <td>1066</td>\n",
       "      <td>0.71</td>\n",
       "      <td>float64</td>\n",
       "    </tr>\n",
       "    <tr>\n",
       "      <th>Bearer Id</th>\n",
       "      <td>991</td>\n",
       "      <td>0.66</td>\n",
       "      <td>float64</td>\n",
       "    </tr>\n",
       "    <tr>\n",
       "      <th>Nb of sec with Vol UL &lt; 1250B</th>\n",
       "      <td>793</td>\n",
       "      <td>0.53</td>\n",
       "      <td>float64</td>\n",
       "    </tr>\n",
       "    <tr>\n",
       "      <th>10 Kbps &lt; UL TP &lt; 50 Kbps (%)</th>\n",
       "      <td>792</td>\n",
       "      <td>0.53</td>\n",
       "      <td>float64</td>\n",
       "    </tr>\n",
       "    <tr>\n",
       "      <th>UL TP &lt; 10 Kbps (%)</th>\n",
       "      <td>792</td>\n",
       "      <td>0.53</td>\n",
       "      <td>float64</td>\n",
       "    </tr>\n",
       "    <tr>\n",
       "      <th>50 Kbps &lt; UL TP &lt; 300 Kbps (%)</th>\n",
       "      <td>792</td>\n",
       "      <td>0.53</td>\n",
       "      <td>float64</td>\n",
       "    </tr>\n",
       "    <tr>\n",
       "      <th>UL TP &gt; 300 Kbps (%)</th>\n",
       "      <td>792</td>\n",
       "      <td>0.53</td>\n",
       "      <td>float64</td>\n",
       "    </tr>\n",
       "    <tr>\n",
       "      <th>Nb of sec with Vol DL &lt; 6250B</th>\n",
       "      <td>755</td>\n",
       "      <td>0.50</td>\n",
       "      <td>float64</td>\n",
       "    </tr>\n",
       "    <tr>\n",
       "      <th>250 Kbps &lt; DL TP &lt; 1 Mbps (%)</th>\n",
       "      <td>754</td>\n",
       "      <td>0.50</td>\n",
       "      <td>float64</td>\n",
       "    </tr>\n",
       "    <tr>\n",
       "      <th>DL TP &gt; 1 Mbps (%)</th>\n",
       "      <td>754</td>\n",
       "      <td>0.50</td>\n",
       "      <td>float64</td>\n",
       "    </tr>\n",
       "    <tr>\n",
       "      <th>DL TP &lt; 50 Kbps (%)</th>\n",
       "      <td>754</td>\n",
       "      <td>0.50</td>\n",
       "      <td>float64</td>\n",
       "    </tr>\n",
       "    <tr>\n",
       "      <th>50 Kbps &lt; DL TP &lt; 250 Kbps (%)</th>\n",
       "      <td>754</td>\n",
       "      <td>0.50</td>\n",
       "      <td>float64</td>\n",
       "    </tr>\n",
       "    <tr>\n",
       "      <th>IMEI</th>\n",
       "      <td>572</td>\n",
       "      <td>0.38</td>\n",
       "      <td>float64</td>\n",
       "    </tr>\n",
       "    <tr>\n",
       "      <th>IMSI</th>\n",
       "      <td>570</td>\n",
       "      <td>0.38</td>\n",
       "      <td>float64</td>\n",
       "    </tr>\n",
       "    <tr>\n",
       "      <th>Start</th>\n",
       "      <td>1</td>\n",
       "      <td>0.00</td>\n",
       "      <td>object</td>\n",
       "    </tr>\n",
       "    <tr>\n",
       "      <th>Avg Bearer TP UL (kbps)</th>\n",
       "      <td>1</td>\n",
       "      <td>0.00</td>\n",
       "      <td>float64</td>\n",
       "    </tr>\n",
       "    <tr>\n",
       "      <th>Avg Bearer TP DL (kbps)</th>\n",
       "      <td>1</td>\n",
       "      <td>0.00</td>\n",
       "      <td>float64</td>\n",
       "    </tr>\n",
       "    <tr>\n",
       "      <th>Activity Duration DL (ms)</th>\n",
       "      <td>1</td>\n",
       "      <td>0.00</td>\n",
       "      <td>float64</td>\n",
       "    </tr>\n",
       "    <tr>\n",
       "      <th>Activity Duration UL (ms)</th>\n",
       "      <td>1</td>\n",
       "      <td>0.00</td>\n",
       "      <td>float64</td>\n",
       "    </tr>\n",
       "    <tr>\n",
       "      <th>Dur. (ms).1</th>\n",
       "      <td>1</td>\n",
       "      <td>0.00</td>\n",
       "      <td>float64</td>\n",
       "    </tr>\n",
       "    <tr>\n",
       "      <th>Dur (s)</th>\n",
       "      <td>1</td>\n",
       "      <td>0.00</td>\n",
       "      <td>float64</td>\n",
       "    </tr>\n",
       "    <tr>\n",
       "      <th>End Offset (ms)</th>\n",
       "      <td>1</td>\n",
       "      <td>0.00</td>\n",
       "      <td>float64</td>\n",
       "    </tr>\n",
       "    <tr>\n",
       "      <th>End</th>\n",
       "      <td>1</td>\n",
       "      <td>0.00</td>\n",
       "      <td>object</td>\n",
       "    </tr>\n",
       "    <tr>\n",
       "      <th>Start Offset (ms)</th>\n",
       "      <td>1</td>\n",
       "      <td>0.00</td>\n",
       "      <td>float64</td>\n",
       "    </tr>\n",
       "    <tr>\n",
       "      <th>Total UL (Bytes)</th>\n",
       "      <td>1</td>\n",
       "      <td>0.00</td>\n",
       "      <td>float64</td>\n",
       "    </tr>\n",
       "    <tr>\n",
       "      <th>Total DL (Bytes)</th>\n",
       "      <td>1</td>\n",
       "      <td>0.00</td>\n",
       "      <td>float64</td>\n",
       "    </tr>\n",
       "  </tbody>\n",
       "</table>\n",
       "</div>"
      ],
      "text/plain": [
       "                                Valores Ausentes  % de Valores Ausentes  \\\n",
       "TCP UL Retrans. Vol (Bytes)                96649                  64.43   \n",
       "TCP DL Retrans. Vol (Bytes)                88146                  58.76   \n",
       "Avg RTT DL (ms)                            27829                  18.55   \n",
       "Avg RTT UL (ms)                            27812                  18.54   \n",
       "Handset Type                                9559                   6.37   \n",
       "Handset Manufacturer                        9559                   6.37   \n",
       "Last Location Name                          1153                   0.77   \n",
       "MSISDN/Number                               1066                   0.71   \n",
       "Bearer Id                                    991                   0.66   \n",
       "Nb of sec with Vol UL < 1250B                793                   0.53   \n",
       "10 Kbps < UL TP < 50 Kbps (%)                792                   0.53   \n",
       "UL TP < 10 Kbps (%)                          792                   0.53   \n",
       "50 Kbps < UL TP < 300 Kbps (%)               792                   0.53   \n",
       "UL TP > 300 Kbps (%)                         792                   0.53   \n",
       "Nb of sec with Vol DL < 6250B                755                   0.50   \n",
       "250 Kbps < DL TP < 1 Mbps (%)                754                   0.50   \n",
       "DL TP > 1 Mbps (%)                           754                   0.50   \n",
       "DL TP < 50 Kbps (%)                          754                   0.50   \n",
       "50 Kbps < DL TP < 250 Kbps (%)               754                   0.50   \n",
       "IMEI                                         572                   0.38   \n",
       "IMSI                                         570                   0.38   \n",
       "Start                                          1                   0.00   \n",
       "Avg Bearer TP UL (kbps)                        1                   0.00   \n",
       "Avg Bearer TP DL (kbps)                        1                   0.00   \n",
       "Activity Duration DL (ms)                      1                   0.00   \n",
       "Activity Duration UL (ms)                      1                   0.00   \n",
       "Dur. (ms).1                                    1                   0.00   \n",
       "Dur (s)                                        1                   0.00   \n",
       "End Offset (ms)                                1                   0.00   \n",
       "End                                            1                   0.00   \n",
       "Start Offset (ms)                              1                   0.00   \n",
       "Total UL (Bytes)                               1                   0.00   \n",
       "Total DL (Bytes)                               1                   0.00   \n",
       "\n",
       "                                 Dtypes  \n",
       "TCP UL Retrans. Vol (Bytes)     float64  \n",
       "TCP DL Retrans. Vol (Bytes)     float64  \n",
       "Avg RTT DL (ms)                 float64  \n",
       "Avg RTT UL (ms)                 float64  \n",
       "Handset Type                     object  \n",
       "Handset Manufacturer             object  \n",
       "Last Location Name               object  \n",
       "MSISDN/Number                   float64  \n",
       "Bearer Id                       float64  \n",
       "Nb of sec with Vol UL < 1250B   float64  \n",
       "10 Kbps < UL TP < 50 Kbps (%)   float64  \n",
       "UL TP < 10 Kbps (%)             float64  \n",
       "50 Kbps < UL TP < 300 Kbps (%)  float64  \n",
       "UL TP > 300 Kbps (%)            float64  \n",
       "Nb of sec with Vol DL < 6250B   float64  \n",
       "250 Kbps < DL TP < 1 Mbps (%)   float64  \n",
       "DL TP > 1 Mbps (%)              float64  \n",
       "DL TP < 50 Kbps (%)             float64  \n",
       "50 Kbps < DL TP < 250 Kbps (%)  float64  \n",
       "IMEI                            float64  \n",
       "IMSI                            float64  \n",
       "Start                            object  \n",
       "Avg Bearer TP UL (kbps)         float64  \n",
       "Avg Bearer TP DL (kbps)         float64  \n",
       "Activity Duration DL (ms)       float64  \n",
       "Activity Duration UL (ms)       float64  \n",
       "Dur. (ms).1                     float64  \n",
       "Dur (s)                         float64  \n",
       "End Offset (ms)                 float64  \n",
       "End                              object  \n",
       "Start Offset (ms)               float64  \n",
       "Total UL (Bytes)                float64  \n",
       "Total DL (Bytes)                float64  "
      ]
     },
     "execution_count": 37,
     "metadata": {},
     "output_type": "execute_result"
    }
   ],
   "source": [
    "calc_perc_val_aus_cols(dataset_limpo)"
   ]
  },
  {
   "cell_type": "code",
   "execution_count": null,
   "id": "d0372c68-528e-4234-8328-b6adcca96ad5",
   "metadata": {},
   "outputs": [],
   "source": []
  }
 ],
 "metadata": {
  "kernelspec": {
   "display_name": "Python 3 (ipykernel)",
   "language": "python",
   "name": "python3"
  },
  "language_info": {
   "codemirror_mode": {
    "name": "ipython",
    "version": 3
   },
   "file_extension": ".py",
   "mimetype": "text/x-python",
   "name": "python",
   "nbconvert_exporter": "python",
   "pygments_lexer": "ipython3",
   "version": "3.12.7"
  }
 },
 "nbformat": 4,
 "nbformat_minor": 5
}
