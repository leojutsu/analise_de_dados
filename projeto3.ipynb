{
 "cells": [
  {
   "cell_type": "markdown",
   "id": "3d787dfb-a64f-403a-9b92-23971d719025",
   "metadata": {},
   "source": [
    "# Técnicas de Limpeza e Tratamento de Valores Ausentes para Análise de Dados."
   ]
  },
  {
   "cell_type": "markdown",
   "id": "4ea9caa2-c061-4469-b003-c87428603e9b",
   "metadata": {},
   "source": [
    "## Pacotes Python usados no projeto"
   ]
  },
  {
   "cell_type": "code",
   "execution_count": 1,
   "id": "26fcc143-c2e3-4c09-a764-a57b44105145",
   "metadata": {},
   "outputs": [],
   "source": [
    "!pip install -q -U watermark"
   ]
  },
  {
   "cell_type": "code",
   "execution_count": 2,
   "id": "fdc7aed5-7178-47ea-9f34-0428654d13fb",
   "metadata": {},
   "outputs": [],
   "source": [
    "# imports\n",
    "import math\n",
    "import sys, os\n",
    "import numpy as np\n",
    "import pandas as pd\n",
    "import matplotlib.pyplot as plt\n",
    "import matplotlib.image as mpimg\n",
    "import warnings\n",
    "warnings.filterwarnings('ignore')"
   ]
  },
  {
   "cell_type": "code",
   "execution_count": 3,
   "id": "5e304ad4-b5e5-472b-9f35-05a189fa665b",
   "metadata": {},
   "outputs": [
    {
     "name": "stdout",
     "output_type": "stream",
     "text": [
      "Author: Leonardo da Silva Neves\n",
      "\n"
     ]
    }
   ],
   "source": [
    "%reload_ext watermark\n",
    "%watermark -a \"Leonardo da Silva Neves\""
   ]
  },
  {
   "cell_type": "markdown",
   "id": "b53aea6c-5660-4a6b-b0e2-f4f1bdf4ff3d",
   "metadata": {},
   "source": [
    "## Carregando os dados\n",
    "https://pandas.pydata.org/docs/reference/api/pandas.read_csv.html"
   ]
  },
  {
   "cell_type": "code",
   "execution_count": 4,
   "id": "532051f0-11a4-4f72-b6dc-98e46b71e5ae",
   "metadata": {},
   "outputs": [],
   "source": [
    "# Criando uma lista para identificar possíveis representações para valores ausentes\n",
    "lista_labels_valores_ausentes = [\"n/a\", \"na\", \"undefined\"]"
   ]
  },
  {
   "cell_type": "code",
   "execution_count": 5,
   "id": "35e8ea80-5756-4f7e-9b4c-98f5567af7cd",
   "metadata": {},
   "outputs": [],
   "source": [
    "# Carregando o dataset com valores ausentes\n",
    "# O parâmetro na_values identifica os argumentos de entrada como valores NaN. A ultilização\n",
    "# deste parâmetro é valida quando se sabe de ante\n",
    "dataset_dsa = pd.read_csv(\"dataset.csv\", na_values= lista_labels_valores_ausentes)"
   ]
  },
  {
   "cell_type": "code",
   "execution_count": 6,
   "id": "eb204f47-931f-4f08-b07e-d972a7785e51",
   "metadata": {},
   "outputs": [
    {
     "data": {
      "text/plain": [
       "(150001, 55)"
      ]
     },
     "execution_count": 6,
     "metadata": {},
     "output_type": "execute_result"
    }
   ],
   "source": [
    "# Shape\n",
    "dataset_dsa.shape"
   ]
  },
  {
   "cell_type": "code",
   "execution_count": 7,
   "id": "2dab862d-296a-47aa-ba6e-9826c483b831",
   "metadata": {},
   "outputs": [],
   "source": [
    "# Alteração de parâmetro do Pandas \"display.max_columns\" para almentar o número de colunas exibidas ao imprimir o dataframe.\n",
    "pd.set_option('display.max_columns', 100)\n",
    "# Caso o df tenha mais de 100 colunaas, o que passar será trucado."
   ]
  },
  {
   "cell_type": "code",
   "execution_count": 8,
   "id": "b55cbe9f-ab36-4056-8629-b0368e73e040",
   "metadata": {},
   "outputs": [],
   "source": [
    "# Carregando o dicionário de dados\n",
    "dicionario = pd.read_excel('dicionario.xlsx')"
   ]
  },
  {
   "cell_type": "code",
   "execution_count": 9,
   "id": "707cd075-a0e1-41d5-8620-e0665e8fbca5",
   "metadata": {},
   "outputs": [
    {
     "data": {
      "text/plain": [
       "(56, 2)"
      ]
     },
     "execution_count": 9,
     "metadata": {},
     "output_type": "execute_result"
    }
   ],
   "source": [
    "# Shape\n",
    "dicionario.shape"
   ]
  },
  {
   "cell_type": "code",
   "execution_count": 10,
   "id": "cd811aa8-566d-462d-88d0-d08468046148",
   "metadata": {},
   "outputs": [],
   "source": [
    "# Definindo um valor grande para a largura da coluna.\n",
    "pd.set_option('display.max_colwidth', 100)"
   ]
  },
  {
   "cell_type": "code",
   "execution_count": 11,
   "id": "d2694cff-6fcd-4eff-8313-c3b8782cc7ac",
   "metadata": {},
   "outputs": [],
   "source": [
    "# Amostra de dados\n",
    "# dicionario.head()"
   ]
  },
  {
   "cell_type": "markdown",
   "id": "0bc1521e-7b21-4f96-826d-7c7b8f4e1b06",
   "metadata": {},
   "source": [
    "## Análise Exploratória"
   ]
  },
  {
   "cell_type": "code",
   "execution_count": 12,
   "id": "aea2ad6b-7878-477b-9352-2f79bbf28822",
   "metadata": {},
   "outputs": [
    {
     "name": "stdout",
     "output_type": "stream",
     "text": [
      "<class 'pandas.core.frame.DataFrame'>\n",
      "RangeIndex: 150001 entries, 0 to 150000\n",
      "Data columns (total 55 columns):\n",
      " #   Column                                    Non-Null Count   Dtype  \n",
      "---  ------                                    --------------   -----  \n",
      " 0   Bearer Id                                 149010 non-null  float64\n",
      " 1   Start                                     150000 non-null  object \n",
      " 2   Start ms                                  150000 non-null  float64\n",
      " 3   End                                       150000 non-null  object \n",
      " 4   End ms                                    150000 non-null  float64\n",
      " 5   Dur. (ms)                                 150000 non-null  float64\n",
      " 6   IMSI                                      149431 non-null  float64\n",
      " 7   MSISDN/Number                             148935 non-null  float64\n",
      " 8   IMEI                                      149429 non-null  float64\n",
      " 9   Last Location Name                        148848 non-null  object \n",
      " 10  Avg RTT DL (ms)                           122172 non-null  float64\n",
      " 11  Avg RTT UL (ms)                           122189 non-null  float64\n",
      " 12  Avg Bearer TP DL (kbps)                   150000 non-null  float64\n",
      " 13  Avg Bearer TP UL (kbps)                   150000 non-null  float64\n",
      " 14  TCP DL Retrans. Vol (Bytes)               61855 non-null   float64\n",
      " 15  TCP UL Retrans. Vol (Bytes)               53352 non-null   float64\n",
      " 16  DL TP < 50 Kbps (%)                       149247 non-null  float64\n",
      " 17  50 Kbps < DL TP < 250 Kbps (%)            149247 non-null  float64\n",
      " 18  250 Kbps < DL TP < 1 Mbps (%)             149247 non-null  float64\n",
      " 19  DL TP > 1 Mbps (%)                        149247 non-null  float64\n",
      " 20  UL TP < 10 Kbps (%)                       149209 non-null  float64\n",
      " 21  10 Kbps < UL TP < 50 Kbps (%)             149209 non-null  float64\n",
      " 22  50 Kbps < UL TP < 300 Kbps (%)            149209 non-null  float64\n",
      " 23  UL TP > 300 Kbps (%)                      149209 non-null  float64\n",
      " 24  HTTP DL (Bytes)                           68527 non-null   float64\n",
      " 25  HTTP UL (Bytes)                           68191 non-null   float64\n",
      " 26  Activity Duration DL (ms)                 150000 non-null  float64\n",
      " 27  Activity Duration UL (ms)                 150000 non-null  float64\n",
      " 28  Dur. (ms).1                               150000 non-null  float64\n",
      " 29  Handset Manufacturer                      140442 non-null  object \n",
      " 30  Handset Type                              140442 non-null  object \n",
      " 31  Nb of sec with 125000B < Vol DL           52463 non-null   float64\n",
      " 32  Nb of sec with 1250B < Vol UL < 6250B     57107 non-null   float64\n",
      " 33  Nb of sec with 31250B < Vol DL < 125000B  56415 non-null   float64\n",
      " 34  Nb of sec with 37500B < Vol UL            19747 non-null   float64\n",
      " 35  Nb of sec with 6250B < Vol DL < 31250B    61684 non-null   float64\n",
      " 36  Nb of sec with 6250B < Vol UL < 37500B    38158 non-null   float64\n",
      " 37  Nb of sec with Vol DL < 6250B             149246 non-null  float64\n",
      " 38  Nb of sec with Vol UL < 1250B             149208 non-null  float64\n",
      " 39  Social Media DL (Bytes)                   150001 non-null  float64\n",
      " 40  Social Media UL (Bytes)                   150001 non-null  float64\n",
      " 41  Google DL (Bytes)                         150001 non-null  float64\n",
      " 42  Google UL (Bytes)                         150001 non-null  float64\n",
      " 43  Email DL (Bytes)                          150001 non-null  float64\n",
      " 44  Email UL (Bytes)                          150001 non-null  float64\n",
      " 45  Youtube DL (Bytes)                        150001 non-null  float64\n",
      " 46  Youtube UL (Bytes)                        150001 non-null  float64\n",
      " 47  Netflix DL (Bytes)                        150001 non-null  float64\n",
      " 48  Netflix UL (Bytes)                        150001 non-null  float64\n",
      " 49  Gaming DL (Bytes)                         150001 non-null  float64\n",
      " 50  Gaming UL (Bytes)                         150001 non-null  float64\n",
      " 51  Other DL (Bytes)                          150001 non-null  float64\n",
      " 52  Other UL (Bytes)                          150001 non-null  float64\n",
      " 53  Total UL (Bytes)                          150000 non-null  float64\n",
      " 54  Total DL (Bytes)                          150000 non-null  float64\n",
      "dtypes: float64(50), object(5)\n",
      "memory usage: 62.9+ MB\n"
     ]
    }
   ],
   "source": [
    "# info\n",
    "dataset_dsa.info()"
   ]
  },
  {
   "cell_type": "code",
   "execution_count": 13,
   "id": "e16467d1-5028-4f4a-8ed4-ae9509ff7ba2",
   "metadata": {},
   "outputs": [],
   "source": [
    "# Estatísticas descritivas\n",
    "# dataset_dsa.describe()"
   ]
  },
  {
   "cell_type": "markdown",
   "id": "d84a8949-af4e-4e48-a0ed-b354bbcd4f82",
   "metadata": {},
   "source": [
    "Não faz sentido calcular estatísticas descritivas para variáveis Baread id, IMSI, MSISDN/Number e IMEI Embora essas colunas sejam\n",
    "do tipo numérico, seus valores servem como identificadores. Mas o método describe() calcula as estatísticas de todas as colunas numéricas. Essas estatísticas estão sendo calculadas antes que os dados sejam limpos. Portanto, pode haver mudanças depois que os valores ausentes e outliers são tratados."
   ]
  },
  {
   "cell_type": "code",
   "execution_count": 10,
   "id": "a834b266-a1c5-4535-83ae-8db4d06da27b",
   "metadata": {},
   "outputs": [
    {
     "data": {
      "text/plain": [
       "(150001, 55)"
      ]
     },
     "execution_count": 10,
     "metadata": {},
     "output_type": "execute_result"
    }
   ],
   "source": [
    "# Shape\n",
    "dataset_dsa.shape"
   ]
  },
  {
   "cell_type": "code",
   "execution_count": 11,
   "id": "b3d6c89c-3a15-4727-9f6a-b695c59ba09d",
   "metadata": {},
   "outputs": [
    {
     "data": {
      "text/plain": [
       "(56, 2)"
      ]
     },
     "execution_count": 11,
     "metadata": {},
     "output_type": "execute_result"
    }
   ],
   "source": [
    "dicionario.shape"
   ]
  },
  {
   "cell_type": "markdown",
   "id": "3a8c1dec-3a73-49af-b1be-1c022c4c78de",
   "metadata": {},
   "source": [
    "Existem 150.001 linhas e 55 colunas no dataframe. No entando, temos 56 colunas com seus nomes e descrições no dicionário.\n",
    "Isso significa que há uma coluna descrita, mas não incluída no dataframe."
   ]
  },
  {
   "cell_type": "code",
   "execution_count": 14,
   "id": "458e621f-66fb-4ef5-a111-0ed4653a62bf",
   "metadata": {},
   "outputs": [],
   "source": [
    "# Concatenar os datasets para comparação de variáveis (lado a lado)\n",
    "df_compara_colunas = pd.concat([pd.Series(dataset_dsa.columns.tolist()), dicionario['Fields']], axis=1)"
   ]
  },
  {
   "cell_type": "code",
   "execution_count": 10,
   "id": "f4a4f2d7-b20f-4167-a2df-1b1464ddb038",
   "metadata": {},
   "outputs": [
    {
     "data": {
      "text/plain": [
       "Index([0, 'Fields'], dtype='object')"
      ]
     },
     "execution_count": 10,
     "metadata": {},
     "output_type": "execute_result"
    }
   ],
   "source": [
    "df_compara_colunas.columns"
   ]
  },
  {
   "cell_type": "code",
   "execution_count": 15,
   "id": "a7cb54bb-96d5-47bd-9612-81e929237a97",
   "metadata": {},
   "outputs": [],
   "source": [
    "# Renomeia as colunas do df_compara_colunas\n",
    "df_compara_colunas.rename(columns = {0:'Coluna do Dataset', 'Fields': 'Coluna do Dicionário'}, inplace = True)"
   ]
  },
  {
   "cell_type": "code",
   "execution_count": 12,
   "id": "12b0f475-5dbc-4b01-aeb9-001ceac5b575",
   "metadata": {},
   "outputs": [],
   "source": [
    "# df_compara_colunas"
   ]
  },
  {
   "cell_type": "markdown",
   "id": "82ffbc3e-564a-4056-95c1-23ab6f9facfa",
   "metadata": {},
   "source": [
    "\"Dur.(Ms)\" é ignorado no dataset como visto no indice 1 em df_compara_colunas. É ai que a ordem das colunas começa a mudar.\n",
    "Mas o mesmo nome da coluna \"Dur.(Ms)\" aparece no dataser no indice 5, enquanto o arquivo de dicionário nos diz que é \"Dur.(S)\"\n",
    "no indice 6. Como as medidas de ambas as colunas diferem conforme mostrado em seus nomes, nós precisamos verificar qual está\n",
    "certo. Para investigar isso, usaremos a coluna \"Dur.(Ms).1\" que se encontra nos indices 28 e 29 no dataset e no arquivo de dicionário,\n",
    "respectivamente."
   ]
  },
  {
   "cell_type": "code",
   "execution_count": 13,
   "id": "b2df10f3-b484-4dea-b24d-56bb494e71ef",
   "metadata": {},
   "outputs": [
    {
     "data": {
      "text/html": [
       "<div>\n",
       "<style scoped>\n",
       "    .dataframe tbody tr th:only-of-type {\n",
       "        vertical-align: middle;\n",
       "    }\n",
       "\n",
       "    .dataframe tbody tr th {\n",
       "        vertical-align: top;\n",
       "    }\n",
       "\n",
       "    .dataframe thead th {\n",
       "        text-align: right;\n",
       "    }\n",
       "</style>\n",
       "<table border=\"1\" class=\"dataframe\">\n",
       "  <thead>\n",
       "    <tr style=\"text-align: right;\">\n",
       "      <th></th>\n",
       "      <th>Dur. (ms)</th>\n",
       "      <th>Dur. (ms).1</th>\n",
       "    </tr>\n",
       "  </thead>\n",
       "  <tbody>\n",
       "    <tr>\n",
       "      <th>0</th>\n",
       "      <td>1823652.0</td>\n",
       "      <td>1.823653e+09</td>\n",
       "    </tr>\n",
       "    <tr>\n",
       "      <th>1</th>\n",
       "      <td>1365104.0</td>\n",
       "      <td>1.365104e+09</td>\n",
       "    </tr>\n",
       "    <tr>\n",
       "      <th>2</th>\n",
       "      <td>1361762.0</td>\n",
       "      <td>1.361763e+09</td>\n",
       "    </tr>\n",
       "    <tr>\n",
       "      <th>3</th>\n",
       "      <td>1321509.0</td>\n",
       "      <td>1.321510e+09</td>\n",
       "    </tr>\n",
       "    <tr>\n",
       "      <th>4</th>\n",
       "      <td>1089009.0</td>\n",
       "      <td>1.089009e+09</td>\n",
       "    </tr>\n",
       "    <tr>\n",
       "      <th>...</th>\n",
       "      <td>...</td>\n",
       "      <td>...</td>\n",
       "    </tr>\n",
       "    <tr>\n",
       "      <th>149996</th>\n",
       "      <td>81230.0</td>\n",
       "      <td>8.123076e+07</td>\n",
       "    </tr>\n",
       "    <tr>\n",
       "      <th>149997</th>\n",
       "      <td>97970.0</td>\n",
       "      <td>9.797070e+07</td>\n",
       "    </tr>\n",
       "    <tr>\n",
       "      <th>149998</th>\n",
       "      <td>98249.0</td>\n",
       "      <td>9.824953e+07</td>\n",
       "    </tr>\n",
       "    <tr>\n",
       "      <th>149999</th>\n",
       "      <td>97910.0</td>\n",
       "      <td>9.791063e+07</td>\n",
       "    </tr>\n",
       "    <tr>\n",
       "      <th>150000</th>\n",
       "      <td>NaN</td>\n",
       "      <td>NaN</td>\n",
       "    </tr>\n",
       "  </tbody>\n",
       "</table>\n",
       "<p>150001 rows × 2 columns</p>\n",
       "</div>"
      ],
      "text/plain": [
       "        Dur. (ms)   Dur. (ms).1\n",
       "0       1823652.0  1.823653e+09\n",
       "1       1365104.0  1.365104e+09\n",
       "2       1361762.0  1.361763e+09\n",
       "3       1321509.0  1.321510e+09\n",
       "4       1089009.0  1.089009e+09\n",
       "...           ...           ...\n",
       "149996    81230.0  8.123076e+07\n",
       "149997    97970.0  9.797070e+07\n",
       "149998    98249.0  9.824953e+07\n",
       "149999    97910.0  9.791063e+07\n",
       "150000        NaN           NaN\n",
       "\n",
       "[150001 rows x 2 columns]"
      ]
     },
     "execution_count": 13,
     "metadata": {},
     "output_type": "execute_result"
    }
   ],
   "source": [
    "# Filtro de colunas no df dataset_dsa para verificar se os valores das variáveis são identicos mas com\n",
    "# o nome de coluna diferente. (duplicação de variável).\n",
    "dataset_dsa[['Dur. (ms)', 'Dur. (ms).1']]"
   ]
  },
  {
   "cell_type": "markdown",
   "id": "c48bb756-3039-4a17-aafc-211fb4a0534f",
   "metadata": {},
   "source": [
    "Parece que a coluna \"Dur. (Ms)\" é medida em segundos. Portanto, vamos renomeá-la apropriadamente. Vamos também renomear\n",
    "algumas colunas para que fiquem claras como sua descrição e sigam o estilo de nomenclatura de outras colunas."
   ]
  },
  {
   "cell_type": "code",
   "execution_count": 16,
   "id": "1ed0f2f6-8c3b-447c-bf10-d7d6129dc13d",
   "metadata": {},
   "outputs": [],
   "source": [
    "# Renomear as colunas do df dataset_dsa (parâmetro inplace = True para salvar no próprio df).\n",
    "dataset_dsa.rename(columns= {'Dur. (ms)': 'Dur (s)',\n",
    "                             'Dur. (ma).1': 'Dur (ms)',\n",
    "                             'Start ms' : 'Start Offset (ms)',\n",
    "                             'End ms': 'End Offset (ms)'},\n",
    "                   inplace = True)"
   ]
  },
  {
   "cell_type": "code",
   "execution_count": 17,
   "id": "1fc53972-4030-49e6-9853-b943458e08f0",
   "metadata": {},
   "outputs": [
    {
     "data": {
      "text/plain": [
       "(150001, 55)"
      ]
     },
     "execution_count": 17,
     "metadata": {},
     "output_type": "execute_result"
    }
   ],
   "source": [
    "# Lista de colunas do dataset\n",
    "dataset_dsa.shape"
   ]
  },
  {
   "cell_type": "markdown",
   "id": "2f7d3a30-2e4c-4490-b549-9ac53524262e",
   "metadata": {},
   "source": [
    "## Etapa 1 - Tratamento de Valores Ausentes\n",
    "\n",
    "- 1- Identificando Valores Ausentes\n",
    "- 2- Drop de Colunas\n",
    "- 3- Imputação com Preenchimento Reverso\n",
    "- 4- Imputação com Preenchimento Progressivo\n",
    "- 5- Imputação de Variáceis Categóricas\n",
    "- 6- Drop de Linhas"
   ]
  },
  {
   "cell_type": "markdown",
   "id": "4b9b7d10-7457-411c-983b-1c797e2a6021",
   "metadata": {},
   "source": [
    "## 1.1 Identificando Valores Ausentes"
   ]
  },
  {
   "cell_type": "code",
   "execution_count": 16,
   "id": "9e0043e3-5b77-406c-9d5b-1334cca611df",
   "metadata": {},
   "outputs": [
    {
     "name": "stdout",
     "output_type": "stream",
     "text": [
      "(150001, 55)\n"
     ]
    },
    {
     "data": {
      "text/plain": [
       "8250055"
      ]
     },
     "execution_count": 16,
     "metadata": {},
     "output_type": "execute_result"
    }
   ],
   "source": [
    "print(dataset_dsa.shape)\n",
    "np.product(dataset_dsa.shape)"
   ]
  },
  {
   "cell_type": "code",
   "execution_count": 18,
   "id": "d6460968-150f-4a74-9a48-90467088243c",
   "metadata": {},
   "outputs": [],
   "source": [
    "# Função que calcula o percentual de valores ausentes no dataset (Geral)\n",
    "def calc_percent_valores_ausentes(df):\n",
    "    #calcula o total de celulas do df\n",
    "    total_cells = np.product(df.shape)\n",
    "\n",
    "    # conta o número de valores ausentes por coluna\n",
    "    missing_count = df.isnull().sum()\n",
    "\n",
    "    # calcula o tatal de valores ausentes\n",
    "    totalMissing = missing_count.sum()\n",
    "\n",
    "    # Calcula o percentual de valores ausentes\n",
    "    print(\"O dataset tem\", round(((totalMissing / total_cells) * 100), 2), \"%\", \"de valores ausentes.\")"
   ]
  },
  {
   "cell_type": "code",
   "execution_count": 12,
   "id": "51fcca1e-f541-4c1b-aed3-1f69de769184",
   "metadata": {},
   "outputs": [
    {
     "name": "stdout",
     "output_type": "stream",
     "text": [
      "O dataset tem 12.72 % de valores ausentes.\n"
     ]
    }
   ],
   "source": [
    "# Chamando a função para descobrir o percentual de valores ausentes no df\n",
    "calc_percent_valores_ausentes(dataset_dsa)"
   ]
  },
  {
   "cell_type": "code",
   "execution_count": 19,
   "id": "56d083a8-980d-4859-91ed-05a41b618078",
   "metadata": {},
   "outputs": [],
   "source": [
    "# função para calcular valores ausentes por coluna.\n",
    "def calc_perc_val_aus_cols(df):\n",
    "    # Total de valores ausentes\n",
    "    mis_val = df.isnull().sum()\n",
    "    # Percentual de valores ausentes\n",
    "    mis_val_percent = 100 * mis_val / len(df)\n",
    "    # Tipo de dados das colunas com valores ausentes\n",
    "    mis_val_dtypes = df.dtypes\n",
    "    # Criando uma tabela com os resultados\n",
    "    mis_val_table = pd.concat([mis_val, mis_val_percent, mis_val_dtypes], axis=1)\n",
    "\n",
    "    # Renomear as colunas\n",
    "    mis_val_table_ren_columns = mis_val_table.rename(\n",
    "            columns = {0: 'Valores Ausentes', 1: '% de Valores Ausentes', 2: 'Dtypes'})\n",
    "    # Classifica a tabela por porcentagem de valores ausentes de forma decresvcente e remove colunas sem valores ausentes\n",
    "    mis_val_table_ren_columns = mis_val_table_ren_columns[mis_val_table_ren_columns.iloc[:,0] != 0].sort_values('% de Valores Ausentes', ascending = False).round(2)\n",
    "    \n",
    "    # Print\n",
    "    print(\"O dataset tem \" + str(df.shape[1]) + \" colunas.\\n\"\n",
    "         \"Encontrado: \" + str(mis_val_table_ren_columns.shape[0]) + \" colunas que têm valores ausentes.\")\n",
    "    if mis_val_table_ren_columns.shape[0] == 0:\n",
    "        return\n",
    "\n",
    "    # Retorna o dataframe com informações ausentes\n",
    "    return mis_val_table_ren_columns"
   ]
  },
  {
   "cell_type": "code",
   "execution_count": 21,
   "id": "995eec66-12a4-4768-a95e-b45b9d3cc601",
   "metadata": {},
   "outputs": [
    {
     "name": "stdout",
     "output_type": "stream",
     "text": [
      "O dataset tem 55 colunas.\n",
      "Encontrado: 41 colunas que têm valores ausentes.\n"
     ]
    }
   ],
   "source": [
    "# Criar tabelas com valores ausentes\n",
    "df_missing = calc_perc_val_aus_cols(dataset_dsa)"
   ]
  },
  {
   "cell_type": "markdown",
   "id": "5e2473f3-8934-41a8-be88-614aa0a3f07f",
   "metadata": {},
   "source": [
    "Normalmente, colunas com mais de 50% de valores ausentes devem ser removidas. Entre 30 e 50% é opcional.\n",
    "\n",
    "Mas a última é sempre do analista de dados! Lembrar-se sempre se justificar a decisão.\n",
    "\n",
    "Neste projeto vamos remover colunas cujos valores ausentes representam mais de 30% da variável, pois temos um número\n",
    "muito grande de colunas com valores ausentes e, portanto, muito trabalho. Vamos tratar as variáveis com percentual baixo e deletar\n",
    "aquelas que tiverem percentual alto de valores ausentes."
   ]
  },
  {
   "cell_type": "markdown",
   "id": "3be8a0cc-793d-456b-b246-a37be42f605b",
   "metadata": {},
   "source": [
    "## 1.2 Drop de Colunas"
   ]
  },
  {
   "cell_type": "code",
   "execution_count": 22,
   "id": "935d11d8-869d-423e-852e-a91f00462d31",
   "metadata": {},
   "outputs": [],
   "source": [
    "# Criando um df filtrando as colunas candidata ao a serem removidas.\n",
    "colunas_para_remover = df_missing[df_missing['% de Valores Ausentes'] >= 30.00].index.tolist()"
   ]
  },
  {
   "cell_type": "code",
   "execution_count": 17,
   "id": "f64ee304-7825-4596-a62c-5a14c3f7cbf1",
   "metadata": {},
   "outputs": [
    {
     "data": {
      "text/plain": [
       "['Nb of sec with 37500B < Vol UL',\n",
       " 'Nb of sec with 6250B < Vol UL < 37500B',\n",
       " 'Nb of sec with 125000B < Vol DL',\n",
       " 'TCP UL Retrans. Vol (Bytes)',\n",
       " 'Nb of sec with 31250B < Vol DL < 125000B',\n",
       " 'Nb of sec with 1250B < Vol UL < 6250B',\n",
       " 'Nb of sec with 6250B < Vol DL < 31250B',\n",
       " 'TCP DL Retrans. Vol (Bytes)',\n",
       " 'HTTP UL (Bytes)',\n",
       " 'HTTP DL (Bytes)']"
      ]
     },
     "execution_count": 17,
     "metadata": {},
     "output_type": "execute_result"
    }
   ],
   "source": [
    "# Colunas que serão removidas\n",
    "colunas_para_remover"
   ]
  },
  {
   "cell_type": "markdown",
   "id": "d9375507-7f32-4ae0-83bb-10b22b876766",
   "metadata": {},
   "source": [
    "Mesmo que as variáveis \"TCP\" tenham muitos valores ausentes, em vez removê-las, o instrutor irá ensinar como imputar valores a\n",
    "essas variáveis, uma vez que elas podem ser necessárias para a análise posterior."
   ]
  },
  {
   "cell_type": "code",
   "execution_count": 30,
   "id": "51e672e3-6b80-4cfc-8d72-353089cad061",
   "metadata": {},
   "outputs": [],
   "source": [
    "# Colunas que serão removidas\n",
    "colunas_para_remover = [col for col in colunas_para_remover if col not in ['TCP UL Retrans. Vol (Bytes)', 'TCP DL Retrans. Vol (Bytes)']]"
   ]
  },
  {
   "cell_type": "code",
   "execution_count": 31,
   "id": "9c48ce1a-ccc7-41d9-aac4-11882966f6a2",
   "metadata": {},
   "outputs": [
    {
     "data": {
      "text/plain": [
       "['Nb of sec with 37500B < Vol UL',\n",
       " 'Nb of sec with 6250B < Vol UL < 37500B',\n",
       " 'Nb of sec with 125000B < Vol DL',\n",
       " 'Nb of sec with 31250B < Vol DL < 125000B',\n",
       " 'Nb of sec with 1250B < Vol UL < 6250B',\n",
       " 'Nb of sec with 6250B < Vol DL < 31250B',\n",
       " 'HTTP UL (Bytes)',\n",
       " 'HTTP DL (Bytes)']"
      ]
     },
     "execution_count": 31,
     "metadata": {},
     "output_type": "execute_result"
    }
   ],
   "source": [
    "# Colunas que serão removidas\n",
    "colunas_para_remover"
   ]
  },
  {
   "cell_type": "code",
   "execution_count": 32,
   "id": "3895f939-aeb2-47e8-afa3-93b497356ab0",
   "metadata": {},
   "outputs": [],
   "source": [
    "# Drop das colunas e criação de outro df\n",
    "dataset_limpo = dataset_dsa.drop(colunas_para_remover, axis=1)"
   ]
  },
  {
   "cell_type": "code",
   "execution_count": 33,
   "id": "b705c37e-b32d-48ce-9411-c2922291e13a",
   "metadata": {},
   "outputs": [
    {
     "data": {
      "text/plain": [
       "(150001, 47)"
      ]
     },
     "execution_count": 33,
     "metadata": {},
     "output_type": "execute_result"
    }
   ],
   "source": [
    "# Shape\n",
    "dataset_limpo.shape"
   ]
  },
  {
   "cell_type": "markdown",
   "id": "4443f8fb-5c39-47e4-9959-6d871fe881d5",
   "metadata": {},
   "source": [
    "Verifica novamente o status dos valores ausentes no dataframe modificado."
   ]
  },
  {
   "cell_type": "code",
   "execution_count": 34,
   "id": "abfac5c8-90e3-4d52-b30c-320cf60e20ab",
   "metadata": {},
   "outputs": [
    {
     "name": "stdout",
     "output_type": "stream",
     "text": [
      "O dataset tem 3.85 % de valores ausentes.\n"
     ]
    }
   ],
   "source": [
    "calc_percent_valores_ausentes(dataset_limpo)"
   ]
  },
  {
   "cell_type": "code",
   "execution_count": 59,
   "id": "e32621d0-1a1b-40ee-90bf-5105402f4f2f",
   "metadata": {},
   "outputs": [],
   "source": [
    "# calc_perc_val_aus_cols(dataset_limpo)"
   ]
  },
  {
   "cell_type": "markdown",
   "id": "46431d06-0b31-4219-889f-d85d9b7baebe",
   "metadata": {},
   "source": [
    "## 1.3. Imputação com Preechimento Reverso"
   ]
  },
  {
   "cell_type": "markdown",
   "id": "d90322d7-bbe4-4709-a80f-c79e4fb21a4c",
   "metadata": {},
   "source": [
    "Uma vez que as porcentagens de valores ausentes 'TCP UL Retrans. Vol(Bytes)' e 'TCP DL Retrans. Vol (Bytes)'são muito altos,\n",
    "iremos aplicar imputação nos valoores com o método de preenchimento reverso.\n",
    "Nesse caso, usar um único valor como média ou mediana não é aconselhavel, pois pode alterar nossos dados de uma forma indesejavel, tornando a maioria dos valores igual a um único valor."
   ]
  },
  {
   "cell_type": "markdown",
   "id": "1e176553-3e12-4cf0-b439-ad2f2832066d",
   "metadata": {},
   "source": [
    "https://pandas.pydata.org/docs/reference/api/pandas.DataFrame.fillna.html"
   ]
  },
  {
   "cell_type": "code",
   "execution_count": 36,
   "id": "77d148b6-7496-4f4c-b440-1439ca5eb98b",
   "metadata": {},
   "outputs": [],
   "source": [
    "# Imputação de valores ausentes usando o Backward fill\n",
    "# method = 'bfill': Bfill ou backward-fill propaga o primeiro valor não nulo observado para trás até que\n",
    "# outro valor não nulo seja encontrado.\n",
    "def func_fix_missing_bfill(df, col):\n",
    "    \n",
    "    count = df[col].isna().sum()\n",
    "\n",
    "    df[col] = df[col].fillna(method = 'bfill')\n",
    "\n",
    "    print(f\"{count} valores ausentes na coluna {col} foram substituídos usando o método de preenchimento reverso.\")"
   ]
  },
  {
   "cell_type": "code",
   "execution_count": 37,
   "id": "4bd6ece2-a0e9-4744-8510-e763422f6520",
   "metadata": {},
   "outputs": [
    {
     "name": "stdout",
     "output_type": "stream",
     "text": [
      "96649 valores ausentes na coluna TCP UL Retrans. Vol (Bytes) foram substituídos usando o método de preenchimento reverso.\n"
     ]
    }
   ],
   "source": [
    "# Imputação com preechimento Reverso na variável 'TCP UL Retrans. Vol (Bytes)'\n",
    "func_fix_missing_bfill(dataset_limpo, 'TCP UL Retrans. Vol (Bytes)')"
   ]
  },
  {
   "cell_type": "code",
   "execution_count": 38,
   "id": "e423a8b7-9d30-4b8a-9080-4f078f9a3226",
   "metadata": {},
   "outputs": [
    {
     "name": "stdout",
     "output_type": "stream",
     "text": [
      "88146 valores ausentes na coluna TCP DL Retrans. Vol (Bytes) foram substituídos usando o método de preenchimento reverso.\n"
     ]
    }
   ],
   "source": [
    "# Imputação com preechimento Reverso na variável 'TCP DL Retrans. Vol (Bytes)'\n",
    "func_fix_missing_bfill(dataset_limpo, 'TCP DL Retrans. Vol (Bytes)')"
   ]
  },
  {
   "cell_type": "markdown",
   "id": "3b7c7f65-b25d-480f-a15d-804d236448a5",
   "metadata": {},
   "source": [
    "## 1.4. Imputação com Preenchimento Progressivo"
   ]
  },
  {
   "cell_type": "code",
   "execution_count": 58,
   "id": "299c2f7b-807b-486d-adc3-b2d3bb6ce94e",
   "metadata": {},
   "outputs": [],
   "source": [
    "# calc_perc_val_aus_cols(dataset_limpo)"
   ]
  },
  {
   "cell_type": "markdown",
   "id": "dc20ce03-6643-4ed4-ae56-faa59072d348",
   "metadata": {},
   "source": [
    "Avg RTT DL(ms) e Avg RTT UL(ms) têm as próximas as próximas porcentagens de valores ausentes com cerca de 18,5% cada. Vamos verificar se as variáveis estão enviesadas (não seguem um distribuição normal) usando o método skew(), que retorna o coeficiênte de assimetria."
   ]
  },
  {
   "cell_type": "code",
   "execution_count": 40,
   "id": "dfd53d4f-50ce-4587-8813-d992c4b57ea5",
   "metadata": {},
   "outputs": [
    {
     "data": {
      "text/plain": [
       "62.90782807995961"
      ]
     },
     "execution_count": 40,
     "metadata": {},
     "output_type": "execute_result"
    }
   ],
   "source": [
    "dataset_limpo['Avg RTT DL (ms)'].skew(skipna = True)"
   ]
  },
  {
   "cell_type": "code",
   "execution_count": 41,
   "id": "c18c7418-9e22-4664-83fd-364d24286ad9",
   "metadata": {},
   "outputs": [
    {
     "data": {
      "text/plain": [
       "28.45741458546382"
      ]
     },
     "execution_count": 41,
     "metadata": {},
     "output_type": "execute_result"
    }
   ],
   "source": [
    "dataset_limpo['Avg RTT UL (ms)'].skew(skipna = True)"
   ]
  },
  {
   "cell_type": "markdown",
   "id": "439bf7fd-453a-405c-b610-f528ef39435a",
   "metadata": {},
   "source": [
    " - Se a assimetria estiver entre -0,5 e 0,5, os dados são bastante simétricos\n",
    " - Se a assimetria estiver entre -1 e -0,5 ou entre 0,5 e 1, os dados estão moderadamente inclinados\n",
    " - Se a assimetria for menor que -1 ou maior que 1, os dados estão altamente enviesados"
   ]
  },
  {
   "cell_type": "markdown",
   "id": "67497196-f2e2-44b8-87b2-35fda09b2787",
   "metadata": {},
   "source": [
    "Visto que ambas as colunas Avg RTT DL (ms) e Avg RTT UL (ms) são fortemente enviesadas positivamente é aconcelhável não imputá-las com sua média. Portanto usamos o preenchimento progressivo."
   ]
  },
  {
   "cell_type": "code",
   "execution_count": 42,
   "id": "d96e29be-3e30-4bb9-8f07-fe21d4620729",
   "metadata": {},
   "outputs": [],
   "source": [
    "# Imputação de valores ausentes usando forward fill (preenchimento progressivo)\n",
    "# method = 'ffill' : Ffill ou forward-fill propaga o último valor não nulo abservado para frente até que\n",
    "# outro valor não nulo seja encontrado\n",
    "def func_fix_missing_ffill(df, col):\n",
    "\n",
    "    count = df[col].isna().sum()\n",
    "\n",
    "    df[col] = df[col].fillna(method = 'ffill')\n",
    "\n",
    "    print(f\"{count} valores ausentes na coluna {col} foram substituídos usando o método de preenchimento progressivo.\")"
   ]
  },
  {
   "cell_type": "code",
   "execution_count": 43,
   "id": "a65176f4-2a25-4112-9463-0994e5db951f",
   "metadata": {},
   "outputs": [
    {
     "name": "stdout",
     "output_type": "stream",
     "text": [
      "27829 valores ausentes na coluna Avg RTT DL (ms) foram substituídos usando o método de preenchimento progressivo.\n"
     ]
    }
   ],
   "source": [
    "# Imputação com preenchimento progressivo\n",
    "func_fix_missing_ffill(dataset_limpo,'Avg RTT DL (ms)') "
   ]
  },
  {
   "cell_type": "code",
   "execution_count": 44,
   "id": "232e6290-ff78-4429-82bc-c89b591cb3ce",
   "metadata": {},
   "outputs": [
    {
     "name": "stdout",
     "output_type": "stream",
     "text": [
      "27812 valores ausentes na coluna Avg RTT UL (ms) foram substituídos usando o método de preenchimento progressivo.\n"
     ]
    }
   ],
   "source": [
    "# Imputação com preenchimento progressivo\n",
    "func_fix_missing_ffill(dataset_limpo,'Avg RTT UL (ms)') "
   ]
  },
  {
   "cell_type": "code",
   "execution_count": 45,
   "id": "9df4e964-e395-4559-a070-4b53ca715dd0",
   "metadata": {},
   "outputs": [
    {
     "name": "stdout",
     "output_type": "stream",
     "text": [
      "O dataset tem 0.44 % de valores ausentes.\n"
     ]
    }
   ],
   "source": [
    "calc_percent_valores_ausentes(dataset_limpo)"
   ]
  },
  {
   "cell_type": "code",
   "execution_count": 57,
   "id": "1a5385cf-6062-4a43-94d5-d5dcae4050d2",
   "metadata": {},
   "outputs": [],
   "source": [
    "# calc_perc_val_aus_cols(dataset_limpo)"
   ]
  },
  {
   "cell_type": "code",
   "execution_count": 52,
   "id": "704f4573-452d-41f4-b1d4-26b2bdb71702",
   "metadata": {},
   "outputs": [
    {
     "name": "stdout",
     "output_type": "stream",
     "text": [
      "<class 'pandas.core.frame.DataFrame'>\n",
      "RangeIndex: 150001 entries, 0 to 150000\n",
      "Data columns (total 47 columns):\n",
      " #   Column                          Non-Null Count   Dtype  \n",
      "---  ------                          --------------   -----  \n",
      " 0   Bearer Id                       149010 non-null  float64\n",
      " 1   Start                           150000 non-null  object \n",
      " 2   Start Offset (ms)               150000 non-null  float64\n",
      " 3   End                             150000 non-null  object \n",
      " 4   End Offset (ms)                 150000 non-null  float64\n",
      " 5   Dur (s)                         150000 non-null  float64\n",
      " 6   IMSI                            149431 non-null  float64\n",
      " 7   MSISDN/Number                   148935 non-null  float64\n",
      " 8   IMEI                            149429 non-null  float64\n",
      " 9   Last Location Name              148848 non-null  object \n",
      " 10  Avg RTT DL (ms)                 150001 non-null  float64\n",
      " 11  Avg RTT UL (ms)                 150001 non-null  float64\n",
      " 12  Avg Bearer TP DL (kbps)         150000 non-null  float64\n",
      " 13  Avg Bearer TP UL (kbps)         150000 non-null  float64\n",
      " 14  TCP DL Retrans. Vol (Bytes)     149996 non-null  float64\n",
      " 15  TCP UL Retrans. Vol (Bytes)     149996 non-null  float64\n",
      " 16  DL TP < 50 Kbps (%)             149247 non-null  float64\n",
      " 17  50 Kbps < DL TP < 250 Kbps (%)  149247 non-null  float64\n",
      " 18  250 Kbps < DL TP < 1 Mbps (%)   149247 non-null  float64\n",
      " 19  DL TP > 1 Mbps (%)              149247 non-null  float64\n",
      " 20  UL TP < 10 Kbps (%)             149209 non-null  float64\n",
      " 21  10 Kbps < UL TP < 50 Kbps (%)   149209 non-null  float64\n",
      " 22  50 Kbps < UL TP < 300 Kbps (%)  149209 non-null  float64\n",
      " 23  UL TP > 300 Kbps (%)            149209 non-null  float64\n",
      " 24  Activity Duration DL (ms)       150000 non-null  float64\n",
      " 25  Activity Duration UL (ms)       150000 non-null  float64\n",
      " 26  Dur. (ms).1                     150000 non-null  float64\n",
      " 27  Handset Manufacturer            150001 non-null  object \n",
      " 28  Handset Type                    150001 non-null  object \n",
      " 29  Nb of sec with Vol DL < 6250B   149246 non-null  float64\n",
      " 30  Nb of sec with Vol UL < 1250B   149208 non-null  float64\n",
      " 31  Social Media DL (Bytes)         150001 non-null  float64\n",
      " 32  Social Media UL (Bytes)         150001 non-null  float64\n",
      " 33  Google DL (Bytes)               150001 non-null  float64\n",
      " 34  Google UL (Bytes)               150001 non-null  float64\n",
      " 35  Email DL (Bytes)                150001 non-null  float64\n",
      " 36  Email UL (Bytes)                150001 non-null  float64\n",
      " 37  Youtube DL (Bytes)              150001 non-null  float64\n",
      " 38  Youtube UL (Bytes)              150001 non-null  float64\n",
      " 39  Netflix DL (Bytes)              150001 non-null  float64\n",
      " 40  Netflix UL (Bytes)              150001 non-null  float64\n",
      " 41  Gaming DL (Bytes)               150001 non-null  float64\n",
      " 42  Gaming UL (Bytes)               150001 non-null  float64\n",
      " 43  Other DL (Bytes)                150001 non-null  float64\n",
      " 44  Other UL (Bytes)                150001 non-null  float64\n",
      " 45  Total UL (Bytes)                150000 non-null  float64\n",
      " 46  Total DL (Bytes)                150000 non-null  float64\n",
      "dtypes: float64(42), object(5)\n",
      "memory usage: 53.8+ MB\n"
     ]
    }
   ],
   "source": [
    "dataset_limpo.info()"
   ]
  },
  {
   "cell_type": "markdown",
   "id": "f36d389a-97b4-486a-8d9b-5502b4bb992c",
   "metadata": {},
   "source": [
    "[Visto que \"Handset Type\" e \"Handset Manufacturer\" são colunas categóricas, é melhor imputá-las com  o valor \"unknown\"\n",
    "para que não enviesemos os dados."
   ]
  },
  {
   "cell_type": "code",
   "execution_count": 53,
   "id": "515f6ff7-19d1-4836-8545-e71853b4d506",
   "metadata": {},
   "outputs": [],
   "source": [
    "# Preencher valor NA\n",
    "def func_fix_missing_value(df, col, value):\n",
    "    count = df[col].isna().sum()\n",
    "    df[col] = df[col].fillna(value)\n",
    "    if type(value) == 'str':\n",
    "        print(f\"{count} valores ausentes na coluna {col} foram substituídos por '{value}'.\")\n",
    "    else:\n",
    "        print(f\"{count} valores ausentes na coluna {col} foram substituídos por {value}.\")"
   ]
  },
  {
   "cell_type": "code",
   "execution_count": 54,
   "id": "d1a1ec06-e8d8-4cef-a108-23281a7fa90b",
   "metadata": {},
   "outputs": [
    {
     "name": "stdout",
     "output_type": "stream",
     "text": [
      "0 valores ausentes na coluna Handset Type foram substituídos por unknown.\n"
     ]
    }
   ],
   "source": [
    "# Imputação de variáveis categóricas\n",
    "func_fix_missing_value(dataset_limpo, 'Handset Type', 'unknown')"
   ]
  },
  {
   "cell_type": "code",
   "execution_count": 55,
   "id": "3f14d8d3-c5a6-4ffa-9657-4ea380e473ab",
   "metadata": {},
   "outputs": [
    {
     "name": "stdout",
     "output_type": "stream",
     "text": [
      "0 valores ausentes na coluna Handset Manufacturer foram substituídos por unknown.\n"
     ]
    }
   ],
   "source": [
    "func_fix_missing_value(dataset_limpo, 'Handset Manufacturer', 'unknown')"
   ]
  },
  {
   "cell_type": "code",
   "execution_count": 56,
   "id": "795045f3-5929-4bf3-bfd4-b546e5439e05",
   "metadata": {},
   "outputs": [
    {
     "name": "stdout",
     "output_type": "stream",
     "text": [
      "O dataset tem 0.17 % de valores ausentes.\n"
     ]
    }
   ],
   "source": [
    "calc_percent_valores_ausentes(dataset_limpo)"
   ]
  },
  {
   "cell_type": "code",
   "execution_count": null,
   "id": "147bed0d-5a2c-4992-8d2d-d416e0cb326d",
   "metadata": {},
   "outputs": [],
   "source": []
  }
 ],
 "metadata": {
  "kernelspec": {
   "display_name": "Python 3 (ipykernel)",
   "language": "python",
   "name": "python3"
  },
  "language_info": {
   "codemirror_mode": {
    "name": "ipython",
    "version": 3
   },
   "file_extension": ".py",
   "mimetype": "text/x-python",
   "name": "python",
   "nbconvert_exporter": "python",
   "pygments_lexer": "ipython3",
   "version": "3.12.7"
  }
 },
 "nbformat": 4,
 "nbformat_minor": 5
}
