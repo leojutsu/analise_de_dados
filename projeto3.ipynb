{
 "cells": [
  {
   "cell_type": "markdown",
   "id": "3d787dfb-a64f-403a-9b92-23971d719025",
   "metadata": {},
   "source": [
    "# Técnicas de Limpeza e Tratamento de Valores Ausentes para Análise de Dados."
   ]
  },
  {
   "cell_type": "markdown",
   "id": "4ea9caa2-c061-4469-b003-c87428603e9b",
   "metadata": {},
   "source": [
    "## Pacotes Python usados no projeto"
   ]
  },
  {
   "cell_type": "code",
   "execution_count": 2,
   "id": "26fcc143-c2e3-4c09-a764-a57b44105145",
   "metadata": {},
   "outputs": [],
   "source": [
    "!pip install -q -U watermark"
   ]
  },
  {
   "cell_type": "code",
   "execution_count": 1,
   "id": "fdc7aed5-7178-47ea-9f34-0428654d13fb",
   "metadata": {},
   "outputs": [],
   "source": [
    "# imports\n",
    "import math\n",
    "import sys, os\n",
    "import numpy as np\n",
    "import pandas as pd\n",
    "import matplotlib.pyplot as plt\n",
    "import matplotlib.image as mpimg\n",
    "import warnings\n",
    "warnings.filterwarnings('ignore')"
   ]
  },
  {
   "cell_type": "code",
   "execution_count": 2,
   "id": "5e304ad4-b5e5-472b-9f35-05a189fa665b",
   "metadata": {},
   "outputs": [
    {
     "name": "stdout",
     "output_type": "stream",
     "text": [
      "Author: Leonardo da Silva Neves\n",
      "\n"
     ]
    }
   ],
   "source": [
    "%reload_ext watermark\n",
    "%watermark -a \"Leonardo da Silva Neves\""
   ]
  },
  {
   "cell_type": "markdown",
   "id": "b53aea6c-5660-4a6b-b0e2-f4f1bdf4ff3d",
   "metadata": {},
   "source": [
    "## Carregando os dados\n",
    "https://pandas.pydata.org/docs/reference/api/pandas.read_csv.html"
   ]
  },
  {
   "cell_type": "code",
   "execution_count": 3,
   "id": "532051f0-11a4-4f72-b6dc-98e46b71e5ae",
   "metadata": {},
   "outputs": [],
   "source": [
    "# Criando uma lista para identificar possíveis representações para valores ausentes\n",
    "lista_labels_valores_ausentes = [\"n/a\", \"na\", \"undefined\"]"
   ]
  },
  {
   "cell_type": "code",
   "execution_count": 4,
   "id": "35e8ea80-5756-4f7e-9b4c-98f5567af7cd",
   "metadata": {},
   "outputs": [],
   "source": [
    "# Carregando o dataset com valores ausentes\n",
    "# O parâmetro na_values identifica os argumentos de entrada como valores NaN. A ultilização\n",
    "# deste parâmetro é valida quando se sabe de ante\n",
    "dataset_dsa = pd.read_csv(\"dataset.csv\", na_values= lista_labels_valores_ausentes)"
   ]
  },
  {
   "cell_type": "code",
   "execution_count": 5,
   "id": "eb204f47-931f-4f08-b07e-d972a7785e51",
   "metadata": {},
   "outputs": [
    {
     "data": {
      "text/plain": [
       "(150001, 55)"
      ]
     },
     "execution_count": 5,
     "metadata": {},
     "output_type": "execute_result"
    }
   ],
   "source": [
    "# Shape\n",
    "dataset_dsa.shape"
   ]
  },
  {
   "cell_type": "code",
   "execution_count": 6,
   "id": "2dab862d-296a-47aa-ba6e-9826c483b831",
   "metadata": {},
   "outputs": [],
   "source": [
    "# Alteração de parâmetro do Pandas \"display.max_columns\" para almentar o número de colunas exibidas ao imprimir o dataframe.\n",
    "pd.set_option('display.max_columns', 100)\n",
    "# Caso o df tenha mais de 100 colunaas, o que passar será trucado."
   ]
  },
  {
   "cell_type": "code",
   "execution_count": 7,
   "id": "b55cbe9f-ab36-4056-8629-b0368e73e040",
   "metadata": {},
   "outputs": [],
   "source": [
    "# Carregando o dicionário de dados\n",
    "dicionario = pd.read_excel('dicionario.xlsx')"
   ]
  },
  {
   "cell_type": "code",
   "execution_count": 8,
   "id": "707cd075-a0e1-41d5-8620-e0665e8fbca5",
   "metadata": {},
   "outputs": [
    {
     "data": {
      "text/plain": [
       "(56, 2)"
      ]
     },
     "execution_count": 8,
     "metadata": {},
     "output_type": "execute_result"
    }
   ],
   "source": [
    "# Shape\n",
    "dicionario.shape"
   ]
  },
  {
   "cell_type": "code",
   "execution_count": 9,
   "id": "cd811aa8-566d-462d-88d0-d08468046148",
   "metadata": {},
   "outputs": [],
   "source": [
    "# Definindo um valor grande para a largura da coluna.\n",
    "pd.set_option('display.max_colwidth', 100)"
   ]
  },
  {
   "cell_type": "code",
   "execution_count": 32,
   "id": "d2694cff-6fcd-4eff-8313-c3b8782cc7ac",
   "metadata": {},
   "outputs": [],
   "source": [
    "# Amostra de dados\n",
    "# dicionario.head()"
   ]
  },
  {
   "cell_type": "markdown",
   "id": "0bc1521e-7b21-4f96-826d-7c7b8f4e1b06",
   "metadata": {},
   "source": [
    "## Análise Exploratória"
   ]
  },
  {
   "cell_type": "code",
   "execution_count": 13,
   "id": "aea2ad6b-7878-477b-9352-2f79bbf28822",
   "metadata": {},
   "outputs": [],
   "source": [
    "# info\n",
    "dataset_dsa.info()"
   ]
  },
  {
   "cell_type": "code",
   "execution_count": 31,
   "id": "e16467d1-5028-4f4a-8ed4-ae9509ff7ba2",
   "metadata": {},
   "outputs": [],
   "source": [
    "# Estatísticas descritivas\n",
    "# dataset_dsa.describe()"
   ]
  },
  {
   "cell_type": "markdown",
   "id": "d84a8949-af4e-4e48-a0ed-b354bbcd4f82",
   "metadata": {},
   "source": [
    "Não faz sentido calcular estatísticas descritivas para variáveis Baread id, IMSI, MSISDN/Number e IMEI Embora essas colunas sejam\n",
    "do tipo numérico, seus valores servem como identificadores. Mas o método describe() calcula as estatísticas de todas as colunas numéricas. Essas estatísticas estão sendo calculadas antes que os dados sejam limpos. Portanto, pode haver mudanças depois que os valores ausentes e outliers são tratados."
   ]
  },
  {
   "cell_type": "code",
   "execution_count": 10,
   "id": "a834b266-a1c5-4535-83ae-8db4d06da27b",
   "metadata": {},
   "outputs": [
    {
     "data": {
      "text/plain": [
       "(150001, 55)"
      ]
     },
     "execution_count": 10,
     "metadata": {},
     "output_type": "execute_result"
    }
   ],
   "source": [
    "# Shape\n",
    "dataset_dsa.shape"
   ]
  },
  {
   "cell_type": "code",
   "execution_count": 11,
   "id": "b3d6c89c-3a15-4727-9f6a-b695c59ba09d",
   "metadata": {},
   "outputs": [
    {
     "data": {
      "text/plain": [
       "(56, 2)"
      ]
     },
     "execution_count": 11,
     "metadata": {},
     "output_type": "execute_result"
    }
   ],
   "source": [
    "dicionario.shape"
   ]
  },
  {
   "cell_type": "markdown",
   "id": "3a8c1dec-3a73-49af-b1be-1c022c4c78de",
   "metadata": {},
   "source": [
    "Existem 150.001 linhas e 55 colunas no dataframe. No entando, temos 56 colunas com seus nomes e descrições no dicionário.\n",
    "Isso significa que há uma coluna descrita, mas não incluída no dataframe."
   ]
  },
  {
   "cell_type": "code",
   "execution_count": 14,
   "id": "458e621f-66fb-4ef5-a111-0ed4653a62bf",
   "metadata": {},
   "outputs": [],
   "source": [
    "# Concatenar os datasets para comparação de variáveis (lado a lado)\n",
    "df_compara_colunas = pd.concat([pd.Series(dataset_dsa.columns.tolist()), dicionario['Fields']], axis=1)"
   ]
  },
  {
   "cell_type": "code",
   "execution_count": 18,
   "id": "f4a4f2d7-b20f-4167-a2df-1b1464ddb038",
   "metadata": {},
   "outputs": [
    {
     "data": {
      "text/plain": [
       "Index(['Coluna do Dataset', 'Coluna do Dicionário'], dtype='object')"
      ]
     },
     "execution_count": 18,
     "metadata": {},
     "output_type": "execute_result"
    }
   ],
   "source": [
    "df_compara_colunas.columns"
   ]
  },
  {
   "cell_type": "code",
   "execution_count": 16,
   "id": "a7cb54bb-96d5-47bd-9612-81e929237a97",
   "metadata": {},
   "outputs": [],
   "source": [
    "# Renomeia as colunas do df_compara_colunas\n",
    "df_compara_colunas.rename(columns = {0:'Coluna do Dataset', 'Fields': 'Coluna do Dicionário'}, inplace = True)"
   ]
  },
  {
   "cell_type": "code",
   "execution_count": 30,
   "id": "12b0f475-5dbc-4b01-aeb9-001ceac5b575",
   "metadata": {},
   "outputs": [],
   "source": [
    "# df_compara_colunas"
   ]
  },
  {
   "cell_type": "markdown",
   "id": "82ffbc3e-564a-4056-95c1-23ab6f9facfa",
   "metadata": {},
   "source": [
    "\"Dur.(Ms)\" é ignorado no dataset como visto no indice 1 em df_compara_colunas. É ai que a ordem das colunas começa a mudar.\n",
    "Mas o mesmo nome da coluna \"Dur.(Ms)\" aparece no dataser no indice 5, enquanto o arquivo de dicionário nos diz que é \"Dur.(S)\"\n",
    "no indice 6. Como as medidas de ambas as colunas diferem conforme mostrado em seus nomes, nós precisamos verificar qual está\n",
    "certo. Para investigar isso, usaremos a coluna \"Dur.(Ms).1\" que se encontra nos indices 28 e 29 no dataset e no arquivo de dicionário,\n",
    "respectivamente."
   ]
  },
  {
   "cell_type": "code",
   "execution_count": 29,
   "id": "b2df10f3-b484-4dea-b24d-56bb494e71ef",
   "metadata": {},
   "outputs": [],
   "source": [
    "# Filtro de colunas no df dataset_dsa para verificar se os valores das variáveis são identicos mas com\n",
    "# o nome de coluna diferente. (duplicação de variável).\n",
    "dataset_dsa[['Dur. (ms)', 'Dur. (ms).1']]"
   ]
  },
  {
   "cell_type": "markdown",
   "id": "c48bb756-3039-4a17-aafc-211fb4a0534f",
   "metadata": {},
   "source": [
    "Parece que a coluna \"Dur. (Ms)\" é medida em segundos. Portanto, vamos renomeá-la apropriadamente. Vamos também renomear\n",
    "algumas colunas para que fiquem claras como sua descrição e sigam o estilo de nomenclatura de outras colunas."
   ]
  },
  {
   "cell_type": "code",
   "execution_count": 26,
   "id": "1ed0f2f6-8c3b-447c-bf10-d7d6129dc13d",
   "metadata": {},
   "outputs": [],
   "source": [
    "# Renomear as colunas do df dataset_dsa (parâmetro inplace = True para salvar no próprio df).\n",
    "dataset_dsa.rename(columns= {'Dur. (ms)': 'Dur (s)',\n",
    "                             'Dur. (ma).1': 'Dur (ms)',\n",
    "                             'Start ms' : 'Start Offset (ms)',\n",
    "                             'End ms': 'End Offset (ms)'},\n",
    "                   inplace = True)"
   ]
  },
  {
   "cell_type": "code",
   "execution_count": 28,
   "id": "1fc53972-4030-49e6-9853-b943458e08f0",
   "metadata": {},
   "outputs": [
    {
     "data": {
      "text/plain": [
       "(150001, 55)"
      ]
     },
     "execution_count": 28,
     "metadata": {},
     "output_type": "execute_result"
    }
   ],
   "source": [
    "# Lista de colunas do dataset\n",
    "dataset_dsa.shape"
   ]
  },
  {
   "cell_type": "markdown",
   "id": "2f7d3a30-2e4c-4490-b549-9ac53524262e",
   "metadata": {},
   "source": [
    "## Etapa 1 - Tratamento de Valores Ausentes\n",
    "\n",
    "- 1- Identificando Valores Ausentes\n",
    "- 2- Drop de Colunas\n",
    "- 3- Imputação com Preenchimento Reverso\n",
    "- 4- Imputação com Preenchimento Progressivo\n",
    "- 5- Imputação de Variáceis Categóricas\n",
    "- 6- Drop de Linhas"
   ]
  },
  {
   "cell_type": "code",
   "execution_count": null,
   "id": "f2d1212d-9273-4908-8578-4bbf4d4d0bd5",
   "metadata": {},
   "outputs": [],
   "source": []
  }
 ],
 "metadata": {
  "kernelspec": {
   "display_name": "Python 3 (ipykernel)",
   "language": "python",
   "name": "python3"
  },
  "language_info": {
   "codemirror_mode": {
    "name": "ipython",
    "version": 3
   },
   "file_extension": ".py",
   "mimetype": "text/x-python",
   "name": "python",
   "nbconvert_exporter": "python",
   "pygments_lexer": "ipython3",
   "version": "3.12.7"
  }
 },
 "nbformat": 4,
 "nbformat_minor": 5
}
